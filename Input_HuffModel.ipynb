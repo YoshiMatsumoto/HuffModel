{
 "cells": [
  {
   "cell_type": "markdown",
   "metadata": {},
   "source": [
    "## Calculateクラス\n",
    "### LoadData(): データを読みこむメソッド\n",
    "- @param pop: 人口メッシュデータ（中心緯度経度、人口データを持つgeojson形式のデータ）\n",
    "- @param com: 商業集積地区データ（中心緯度経度、売り場面積、売上高を持つgeojson形式のデータ）\n",
    "            \n",
    "### Dist(): ヒュべニの公式を用いた二点の距離を求めるメソッド\n",
    "- @param p1: 緯度経度をリストで持つ地点\n",
    "- @param p2: 緯度経度をリストで持つ地点\n",
    "\n",
    "### oneAttract(): 顧客が店舗に行く確率を求めるメソッド\n",
    "- @apram distList: すべての店舗までの距離のリスト\n",
    "- @param areaList: すべての店舗の売場面積のリスト\n",
    "- @param area: 面積補正係数\n",
    "- @param dist: 距離補正係数\n",
    "- @return 店舗の魅力度のリスト\n",
    "\n",
    "### CleanList(): リストの-9999を0に変換するメソッド\n",
    "- @param ln: 変換するリスト\n",
    "- @return 変換後のリスト\n",
    "\n",
    "### PredictSale(): 売上高を求めるメソッド\n",
    "- @param pop_ptList 人口メッシュの緯度経度リスト\n",
    "- @param pop_popList 人口メッシュの人口リスト\n",
    "- @param com_ptList 商業施設の緯度経度リスト\n",
    "- @param com_areaList 商業施設の売り場面積リスト\n",
    "- @param area,dist 面積補正係数,距離補正係数\n",
    "- @return predictSale 売上の予測値"
   ]
  },
  {
   "cell_type": "markdown",
   "metadata": {},
   "source": [
    "## ライブラリ"
   ]
  },
  {
   "cell_type": "code",
   "execution_count": 1,
   "metadata": {},
   "outputs": [],
   "source": [
    "import numpy as np\n",
    "import json\n",
    "import tqdm\n",
    "from huffcalculate import Calculate\n",
    "import pandas as pd\n",
    "import matplotlib.pyplot as plt\n",
    "plt.style.use('ggplot')\n",
    "%matplotlib inline\n",
    "%config InlineBackend.figure_format = 'retina'\n"
   ]
  },
  {
   "cell_type": "markdown",
   "metadata": {},
   "source": [
    "## Calculateクラスのコンストラクタ"
   ]
  },
  {
   "cell_type": "code",
   "execution_count": 2,
   "metadata": {},
   "outputs": [],
   "source": [
    "calculate = Calculate('100_pop.geojson', 'A_com.geojson')\n",
    "(pop, com) = calculate.LoadData()"
   ]
  },
  {
   "cell_type": "markdown",
   "metadata": {},
   "source": [
    "## GeoJSON形式を読み込む"
   ]
  },
  {
   "cell_type": "code",
   "execution_count": 3,
   "metadata": {},
   "outputs": [],
   "source": [
    "#100mメッシュの点を取得\n",
    "pop_ptList = [i['geometry']['coordinates'] for i in pop['features']]\n",
    "#商業施設座標の取得\n",
    "com_ptList = [i['geometry']['coordinates'] for i in com['features']]\n",
    "\n",
    "# 商業集積地区の名称を取得\n",
    "com_name = [i['properties']['field_7'] for i in com['features']]\n",
    "\n",
    "#売場面積の取得\n",
    "com_areaList = [i['properties']['売場面積'] for i in com['features']]\n",
    "# com_areaList = [n.replace('X', '0') for n in com_areaList]\n",
    "# com_areaList = np.array([float(n.replace(',', '')) for n in com_areaList])\n",
    "#100mメッシュの人口を取得, -9999を0に変換\n",
    "pop_popList = [i['properties']['H27総人口'] for i in pop['features']]\n",
    "pop_popList = calculate.CleanList(pop_popList)\n",
    "\n",
    "#売り上げを取得\n",
    "com_saleList = [i['properties']['年間商品販売額'] for i in com['features']]\n",
    "#秘匿をゼロに\n",
    "# com_saleList = [n.replace('X', '0') for n in com_saleList]\n",
    "# com_saleList = np.array([float(n.replace(',', '')) for n in com_saleList])\n",
    "\n",
    "#出力用に取得\n",
    "#meshcodeの取得\n",
    "pop_meshcodeList = [i['properties']['MESHCODE'] for i in pop['features']]\n",
    "#keycodeの取得\n",
    "pop_keycodeList = [i['properties']['KEYCODE'] for i in pop['features']]\n",
    "\n",
    "#idを作成\n",
    "id = np.arange(len(com_areaList))"
   ]
  },
  {
   "cell_type": "markdown",
   "metadata": {},
   "source": [
    "# 基本プロット"
   ]
  },
  {
   "cell_type": "code",
   "execution_count": 4,
   "metadata": {
    "scrolled": true
   },
   "outputs": [
    {
     "data": {
      "text/plain": [
       "(array([206.,   9.,   5.,   3.,   0.,   0.,   0.,   0.,   0.,   1.]),\n",
       " array([5.800000e+01, 1.450420e+04, 2.895040e+04, 4.339660e+04,\n",
       "        5.784280e+04, 7.228900e+04, 8.673520e+04, 1.011814e+05,\n",
       "        1.156276e+05, 1.300738e+05, 1.445200e+05]),\n",
       " <a list of 10 Patch objects>)"
      ]
     },
     "execution_count": 4,
     "metadata": {},
     "output_type": "execute_result"
    },
    {
     "data": {
      "image/png": "[encoded data removed]",
      "text/plain": [
       "<Figure size 432x288 with 1 Axes>"
      ]
     },
     "metadata": {
      "image/png": {
       "height": 250,
       "width": 377
      },
      "needs_background": "light"
     },
     "output_type": "display_data"
    }
   ],
   "source": [
    "# 売場面積のプロット\n",
    "plt.hist(com_areaList)"
   ]
  },
  {
   "cell_type": "code",
   "execution_count": 5,
   "metadata": {},
   "outputs": [
    {
     "data": {
      "text/plain": [
       "(array([217.,   4.,   1.,   1.,   0.,   0.,   0.,   0.,   0.,   1.]),\n",
       " array([1.60000e+01, 2.70330e+04, 5.40500e+04, 8.10670e+04, 1.08084e+05,\n",
       "        1.35101e+05, 1.62118e+05, 1.89135e+05, 2.16152e+05, 2.43169e+05,\n",
       "        2.70186e+05]),\n",
       " <a list of 10 Patch objects>)"
      ]
     },
     "execution_count": 5,
     "metadata": {},
     "output_type": "execute_result"
    },
    {
     "data": {
      "image/png": "[encoded data removed]",
      "text/plain": [
       "<Figure size 432x288 with 1 Axes>"
      ]
     },
     "metadata": {
      "image/png": {
       "height": 250,
       "width": 377
      },
      "needs_background": "light"
     },
     "output_type": "display_data"
    }
   ],
   "source": [
    "# 元の売り上げのプロット\n",
    "plt.hist(com_saleList)"
   ]
  },
  {
   "cell_type": "markdown",
   "metadata": {},
   "source": [
    "## 比例定数の算出\n",
    "- 売上高/人口 = k(円/人)"
   ]
  },
  {
   "cell_type": "code",
   "execution_count": 6,
   "metadata": {},
   "outputs": [
    {
     "data": {
      "text/plain": [
       "0.5157552019268294"
      ]
     },
     "execution_count": 6,
     "metadata": {},
     "output_type": "execute_result"
    }
   ],
   "source": [
    "popSum = np.sum(pop_popList)\n",
    "saleSum = np.sum(com_saleList)\n",
    "k = saleSum / popSum\n",
    "k"
   ]
  },
  {
   "cell_type": "markdown",
   "metadata": {},
   "source": [
    "## 係数の定義\n",
    "- @param area: 面積のべき数\n",
    "- @param dist: 距離のべき数"
   ]
  },
  {
   "cell_type": "code",
   "execution_count": 90,
   "metadata": {},
   "outputs": [],
   "source": [
    "area = 1.30\n",
    "dist = 0.76"
   ]
  },
  {
   "cell_type": "markdown",
   "metadata": {},
   "source": [
    "## 売上高の予測"
   ]
  },
  {
   "cell_type": "code",
   "execution_count": 91,
   "metadata": {
    "scrolled": true
   },
   "outputs": [
    {
     "name": "stderr",
     "output_type": "stream",
     "text": [
      "100%|██████████| 32564/32564 [02:11<00:00, 248.23it/s]\n"
     ]
    }
   ],
   "source": [
    "predictList = calculate.PredictSale(pop_ptList, pop_popList, com_ptList, com_areaList, area, dist, 400)"
   ]
  },
  {
   "cell_type": "markdown",
   "metadata": {},
   "source": [
    "## 残差の計算"
   ]
  },
  {
   "cell_type": "code",
   "execution_count": 92,
   "metadata": {
    "scrolled": true
   },
   "outputs": [],
   "source": [
    "e = com_saleList - k*predictList"
   ]
  },
  {
   "cell_type": "markdown",
   "metadata": {},
   "source": [
    "## 平均二乗誤差"
   ]
  },
  {
   "cell_type": "code",
   "execution_count": 93,
   "metadata": {
    "scrolled": true
   },
   "outputs": [
    {
     "data": {
      "text/plain": [
       "4843.85929202947"
      ]
     },
     "execution_count": 93,
     "metadata": {},
     "output_type": "execute_result"
    }
   ],
   "source": [
    "RMSE = np.sqrt(np.sum(e**2)/len(com_saleList))\n",
    "RMSE"
   ]
  },
  {
   "cell_type": "code",
   "execution_count": 94,
   "metadata": {
    "scrolled": true
   },
   "outputs": [
    {
     "data": {
      "text/plain": [
       "array([4.92762898e+00, 8.35148154e+01, 1.60392692e+01, 9.11871102e-01,\n",
       "       3.32454310e+00, 5.44866062e+00, 1.02842023e+01, 3.67237247e+00,\n",
       "       3.27287790e+01, 1.25229041e+00, 8.80701689e+01, 1.83618624e+00,\n",
       "       1.53778193e-01, 5.04568676e+00, 7.56853014e+01, 5.00398687e+00,\n",
       "       4.00683207e-01, 4.84095472e-01, 1.25488583e+01, 8.39490345e+00,\n",
       "       2.31763602e+01, 2.64691765e+00, 5.80102909e+00, 1.21705007e+01,\n",
       "       1.64198620e+01, 1.13439328e+01, 2.47767739e+00, 1.99008188e-01,\n",
       "       1.75820664e+00, 1.88918069e+00, 1.99664439e+00, 8.07309882e+01,\n",
       "       1.42466450e+01, 5.87134460e+00, 8.83915929e+00, 7.56853014e+01,\n",
       "       3.84433277e+01, 3.04071519e+00, 5.16402910e+00, 8.48757542e-01,\n",
       "       7.42923204e-01, 4.80065341e+00, 3.02741206e+01, 1.11609661e+01,\n",
       "       5.80102909e+00, 5.56765436e+01, 2.61830232e+01, 1.26445110e-01,\n",
       "       8.42703426e-01, 1.14026819e+00, 1.40973786e+00, 7.28728643e-01,\n",
       "       2.01827471e+01, 8.87950595e-02, 1.67087247e+00, 2.20075388e+00,\n",
       "       3.38022281e+00, 1.15660442e+00, 1.85588479e+00, 4.45617230e+00,\n",
       "       1.68840297e-01, 6.79172643e-01, 1.20794496e+01, 2.02587172e+00,\n",
       "       5.81754116e-02, 1.00495006e+01, 1.97547279e+00, 1.52322619e+01,\n",
       "       9.71686919e-01, 2.06825760e+00, 2.17506030e+00, 1.79278693e-02,\n",
       "       1.64087374e+00, 1.94767161e+00, 6.96457123e-01, 1.03192571e+00,\n",
       "       2.13385872e+01, 7.53321818e+00, 4.93264694e+00, 2.84932900e+01,\n",
       "       2.17213421e+01, 5.42061246e-01, 1.45243157e+00, 6.92177664e-01,\n",
       "       4.94271356e+00, 8.12728069e+00, 3.78426507e+00, 3.75492968e+00,\n",
       "       8.64974874e+00, 8.77192918e-01, 3.47728592e+00, 2.99929368e+00,\n",
       "       1.85588479e+01, 1.86230653e+00, 1.30985919e+00, 1.79868522e+00,\n",
       "       2.20175422e+01, 2.22706174e+00, 1.45417571e+00, 3.08329681e-01,\n",
       "       2.32208020e+00, 3.82913778e+00, 4.16963010e-01, 2.39795014e+00,\n",
       "       1.69959975e+01, 2.06675739e-01, 1.48493541e+00, 7.10035077e-01,\n",
       "       1.43402786e-01, 5.34052844e+00, 3.49232826e+00, 3.41597975e+00,\n",
       "       4.52697130e+00, 1.46783615e+01, 2.16243718e+01, 2.73664367e+01,\n",
       "       1.43267060e+00, 4.55592484e-01, 3.94772558e+00, 4.33648997e+00,\n",
       "       9.86730351e-01, 3.02741206e+02, 4.43983436e+00, 8.93700976e+00,\n",
       "       3.02741206e+00, 2.57652090e+01, 1.39592487e+01, 1.01124411e+01,\n",
       "       2.35825671e+00, 5.75280201e+00, 1.81485923e+00, 4.26021046e+00,\n",
       "       1.92982442e+01, 4.37171416e+00, 2.04814346e+00, 4.17574077e+01,\n",
       "       6.99878528e-01, 3.40158658e+00, 2.59029909e+01, 9.89754657e-01,\n",
       "       6.38189630e+00, 2.08302197e-01, 1.88477015e+01, 3.01798087e+00,\n",
       "       2.09690878e+01, 2.39795014e+01, 2.97169282e+01, 4.03654941e+00,\n",
       "       1.15056040e+01, 8.80701689e+01, 3.29514238e+01, 8.38037940e+00,\n",
       "       5.16402910e+00, 3.78013055e-01, 2.54939963e+02, 9.13935715e+00,\n",
       "       2.69103294e+02, 9.88542713e+00, 5.15852960e+00, 6.69966707e+00,\n",
       "       7.45209122e+00, 1.33808268e+01, 1.81894829e+00, 1.22319679e+01,\n",
       "       5.31124922e+00, 9.82527240e-01, 4.21058701e-01, 7.19741351e+00,\n",
       "       3.23139379e+00, 6.98969595e+00, 7.94075294e+00, 1.12647891e+01,\n",
       "       7.55672276e+00, 3.98016376e+00, 1.21399982e+01, 1.73615028e+01,\n",
       "       1.00079737e+01, 3.68915407e+00, 1.56759200e+01, 4.88538507e-01,\n",
       "       3.97037647e+01, 3.01741686e-01, 1.63920788e+00, 2.05248275e+00,\n",
       "       2.17213421e+00, 1.51040202e+00, 5.78026168e+00, 1.86517493e+00,\n",
       "       7.52385724e-01, 4.81880152e-01, 2.29675642e+00, 9.17919138e-01,\n",
       "       9.26168125e+00, 5.76649916e+00, 4.43171024e+00, 3.37551170e+00,\n",
       "       9.80538318e-01, 5.29383529e+00, 7.78380089e-01, 4.60968718e-01,\n",
       "       7.10660107e-01, 1.80842236e-01, 5.67462429e-01, 1.05946179e+00,\n",
       "       2.76791960e+01, 7.08166563e-01, 9.53327946e-01, 1.53968827e+00,\n",
       "       3.40158658e+00, 7.31700799e+00, 9.38914381e-01, 5.91435811e+00,\n",
       "       3.56690670e+00, 2.60422543e+01, 1.42928867e+00, 3.75492968e+01,\n",
       "       7.80009548e+00, 1.14484975e+00, 6.91979899e+00, 1.95395696e+00,\n",
       "       5.06679842e-01, 2.40628877e+00, 3.92724120e-01, 2.30879852e+00])"
      ]
     },
     "execution_count": 94,
     "metadata": {},
     "output_type": "execute_result"
    }
   ],
   "source": [
    "RMSE/com_saleList"
   ]
  },
  {
   "cell_type": "code",
   "execution_count": 95,
   "metadata": {},
   "outputs": [
    {
     "data": {
      "text/plain": [
       "<matplotlib.collections.PathCollection at 0x11c7d9160>"
      ]
     },
     "execution_count": 95,
     "metadata": {},
     "output_type": "execute_result"
    },
    {
     "data": {
      "image/png": "[encoded data removed]",
      "text/plain": [
       "<Figure size 432x288 with 1 Axes>"
      ]
     },
     "metadata": {
      "image/png": {
       "height": 250,
       "width": 377
      },
      "needs_background": "light"
     },
     "output_type": "display_data"
    }
   ],
   "source": [
    "plt.scatter(id, RMSE/com_saleList)"
   ]
  },
  {
   "cell_type": "markdown",
   "metadata": {},
   "source": [
    "## 残差プロット"
   ]
  },
  {
   "cell_type": "code",
   "execution_count": 96,
   "metadata": {},
   "outputs": [
    {
     "data": {
      "text/plain": [
       "<matplotlib.collections.PathCollection at 0x128a39f98>"
      ]
     },
     "execution_count": 96,
     "metadata": {},
     "output_type": "execute_result"
    },
    {
     "data": {
      "image/png": "[encoded data removed]",
      "text/plain": [
       "<Figure size 432x288 with 1 Axes>"
      ]
     },
     "metadata": {
      "image/png": {
       "height": 252,
       "width": 404
      },
      "needs_background": "light"
     },
     "output_type": "display_data"
    }
   ],
   "source": [
    "plt.ylim(-150000, 150000)\n",
    "plt.scatter(id, e, c='red', marker='.')"
   ]
  },
  {
   "cell_type": "markdown",
   "metadata": {},
   "source": [
    "## 理論値売上に対する誤差"
   ]
  },
  {
   "cell_type": "code",
   "execution_count": 97,
   "metadata": {},
   "outputs": [
    {
     "data": {
      "text/plain": [
       "2079.168923265839"
      ]
     },
     "execution_count": 97,
     "metadata": {},
     "output_type": "execute_result"
    }
   ],
   "source": [
    "sum(abs(e))/len(com_saleList)"
   ]
  },
  {
   "cell_type": "markdown",
   "metadata": {},
   "source": [
    "# x = predictList*k"
   ]
  },
  {
   "cell_type": "code",
   "execution_count": 98,
   "metadata": {},
   "outputs": [],
   "source": [
    "y = com_saleList"
   ]
  },
  {
   "cell_type": "code",
   "execution_count": 99,
   "metadata": {
    "scrolled": true
   },
   "outputs": [
    {
     "data": {
      "text/plain": [
       "array([[1.        , 0.97114075],\n",
       "       [0.97114075, 1.        ]])"
      ]
     },
     "execution_count": 99,
     "metadata": {},
     "output_type": "execute_result"
    }
   ],
   "source": [
    "np.corrcoef(x,y)"
   ]
  },
  {
   "cell_type": "code",
   "execution_count": 100,
   "metadata": {
    "scrolled": true
   },
   "outputs": [
    {
     "data": {
      "text/plain": [
       "<matplotlib.collections.PathCollection at 0x12cd122e8>"
      ]
     },
     "execution_count": 100,
     "metadata": {},
     "output_type": "execute_result"
    },
    {
     "data": {
      "image/png": "[encoded data removed]",
      "text/plain": [
       "<Figure size 432x288 with 1 Axes>"
      ]
     },
     "metadata": {
      "image/png": {
       "height": 252,
       "width": 414
      },
      "needs_background": "light"
     },
     "output_type": "display_data"
    }
   ],
   "source": [
    "#理論値と予測値の散布図\n",
    "plt.xlim(0, 300000)\n",
    "plt.ylim(0, 300000)\n",
    "plt.scatter(x, y, c='red', marker='.')"
   ]
  },
  {
   "cell_type": "markdown",
   "metadata": {},
   "source": [
    "## 基本プロット"
   ]
  },
  {
   "cell_type": "code",
   "execution_count": 101,
   "metadata": {
    "scrolled": false
   },
   "outputs": [
    {
     "data": {
      "text/plain": [
       "([array([213.,   6.,   2.,   2.,   0.,   0.,   0.,   0.,   0.,   0.,   0.,\n",
       "           0.,   0.,   1.,   0.]),\n",
       "  array([213.,   8.,   1.,   0.,   1.,   0.,   0.,   0.,   0.,   0.,   0.,\n",
       "           0.,   0.,   1.,   0.])],\n",
       " array([     0.,  20000.,  40000.,  60000.,  80000., 100000., 120000.,\n",
       "        140000., 160000., 180000., 200000., 220000., 240000., 260000.,\n",
       "        280000., 300000.]),\n",
       " <a list of 2 Lists of Patches objects>)"
      ]
     },
     "execution_count": 101,
     "metadata": {},
     "output_type": "execute_result"
    },
    {
     "data": {
      "image/png": "[encoded data removed]",
      "text/plain": [
       "<Figure size 432x288 with 1 Axes>"
      ]
     },
     "metadata": {
      "image/png": {
       "height": 250,
       "width": 381
      },
      "needs_background": "light"
     },
     "output_type": "display_data"
    }
   ],
   "source": [
    "#predicted data(予測値)\n",
    "\n",
    "plt.hist([x, y], stacked=False, range=(0, 300000), bins=15)"
   ]
  },
  {
   "cell_type": "markdown",
   "metadata": {},
   "source": [
    "## 誤差のcsv出力"
   ]
  },
  {
   "cell_type": "code",
   "execution_count": 102,
   "metadata": {
    "scrolled": true
   },
   "outputs": [],
   "source": [
    "data1 = pd.DataFrame(id)\n",
    "data2 = pd.DataFrame(com_name)\n",
    "data3 = pd.DataFrame(e)\n",
    "data = pd.concat([data1, data2, data3], axis=1)\n",
    "#utf-8 でダメなら　shift-jis で\n",
    "data.to_csv(\"data.csv\", encoding = \"utf-8\")"
   ]
  },
  {
   "cell_type": "code",
   "execution_count": null,
   "metadata": {},
   "outputs": [],
   "source": []
  }
 ],
 "metadata": {
  "kernelspec": {
   "display_name": "Python 3",
   "language": "python",
   "name": "python3"
  },
  "language_info": {
   "codemirror_mode": {
    "name": "ipython",
    "version": 3
   },
   "file_extension": ".py",
   "mimetype": "text/x-python",
   "name": "python",
   "nbconvert_exporter": "python",
   "pygments_lexer": "ipython3",
   "version": "3.7.0"
  }
 },
 "nbformat": 4,
 "nbformat_minor": 2
}
