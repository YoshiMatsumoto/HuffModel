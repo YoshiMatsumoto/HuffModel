{
 "cells": [
  {
   "cell_type": "markdown",
   "metadata": {},
   "source": [
    "## 計算クラス\n",
    "### LoadData(): データを読みこむメソッド\n",
    "- @param pop: 人口メッシュデータ（中心緯度経度、人口データを持つgeojson形式のデータ）\n",
    "- @param com: 商業集積地区データ（中心緯度経度、売り場面積、売上高を持つgeojson形式のデータ）\n",
    "            \n",
    "### Dist(): ヒュべニの公式を用いた二点の距離を求めるメソッド\n",
    "- @param p1: 緯度経度をリストで持つ地点\n",
    "- @param p2: 緯度経度をリストで持つ地点\n",
    "\n",
    "### oneAttract(): 顧客が店舗に行く確率を求めるメソッド\n",
    "- @apram distList: すべての店舗までの距離のリスト\n",
    "- @param areaList: すべての店舗の売場面積のリスト\n",
    "- @param area: 面積補正係数\n",
    "- @param dist: 距離補正係数\n",
    "- @return 店舗の魅力度のリスト\n",
    "\n",
    "### CleanList(): リストの-9999を0に変換するメソッド\n",
    "- @param ln: 変換するリスト\n",
    "- @return 変換後のリスト\n",
    "\n",
    "### PredictSale(): 売上高を求めるメソッド\n",
    "- @param pop_ptList 人口メッシュの緯度経度リスト\n",
    "- @param pop_popList 人口メッシュの人口リスト\n",
    "- @param com_ptList 商業施設の緯度経度リスト\n",
    "- @param com_areaList 商業施設の売り場面積リスト\n",
    "- @param area,dist 面積補正係数,距離補正係数\n",
    "- @return predictSale 売上の予測値"
   ]
  },
  {
   "cell_type": "markdown",
   "metadata": {},
   "source": [
    "## ライブラリ"
   ]
  },
  {
   "cell_type": "code",
   "execution_count": 1,
   "metadata": {},
   "outputs": [],
   "source": [
    "import numpy as np\n",
    "import json\n",
    "import tqdm\n",
    "from huffcalculate import Calculate"
   ]
  },
  {
   "cell_type": "markdown",
   "metadata": {},
   "source": [
    "## Calculateクラスのコンストラクタ"
   ]
  },
  {
   "cell_type": "code",
   "execution_count": 2,
   "metadata": {},
   "outputs": [],
   "source": [
    "calculate = Calculate('100_pop.geojson', 'A_com.geojson', 0.489773)\n",
    "(pop, com) = calculate.LoadData()"
   ]
  },
  {
   "cell_type": "markdown",
   "metadata": {},
   "source": [
    "## GeoJSON形式を読み込む"
   ]
  },
  {
   "cell_type": "code",
   "execution_count": 3,
   "metadata": {},
   "outputs": [],
   "source": [
    "#100mメッシュの点を取得\n",
    "pop_ptList = [i['geometry']['coordinates'] for i in pop['features']]\n",
    "#商業施設座標の取得\n",
    "com_ptList = [i['geometry']['coordinates'] for i in com['features']]\n",
    "#売場面積の取得\n",
    "com_areaList = [i['properties']['売場面積'] for i in com['features']]\n",
    "#100mメッシュの人口を取得, -9999を0に変換\n",
    "pop_popList = [i['properties']['H27総人口'] for i in pop['features']]\n",
    "pop_popList = calculate.CleanList(pop_popList)\n",
    "\n",
    "#売り上げを取得\n",
    "com_saleList = np.array([i['properties']['年間商品販売額(百万円)'] for i in com['features']]\n",
    "#出力用に取得\n",
    "#meshcodeの取得\n",
    "pop_meshcodeList = [i['properties']['MESHCODE'] for i in pop['features']]\n",
    "#keycodeの取得\n",
    "pop_keycodeList = [i['properties']['KEYCODE'] for i in pop['features']]"
   ]
  },
  {
   "cell_type": "markdown",
   "metadata": {},
   "source": [
    "## 係数の定義\n",
    "- @param area: 面積のべき数\n",
    "- @param dist: 距離のべき数\n",
    "- @param k: 係数"
   ]
  },
  {
   "cell_type": "code",
   "execution_count": 4,
   "metadata": {},
   "outputs": [],
   "source": [
    "area = 0.9\n",
    "dist = 1.3\n",
    "k = 0.498"
   ]
  },
  {
   "cell_type": "code",
   "execution_count": 5,
   "metadata": {
    "scrolled": true
   },
   "outputs": [
    {
     "name": "stderr",
     "output_type": "stream",
     "text": [
      "100%|██████████| 32564/32564 [01:45<00:00, 309.90it/s]\n"
     ]
    }
   ],
   "source": [
    "predictList = calculate.PredictSale(pop_ptList, pop_popList, com_ptList, com_areaList, area, dist)"
   ]
  },
  {
   "cell_type": "code",
   "execution_count": 6,
   "metadata": {
    "scrolled": true
   },
   "outputs": [
    {
     "ename": "TypeError",
     "evalue": "can't multiply sequence by non-int of type 'float'",
     "output_type": "error",
     "traceback": [
      "\u001b[0;31m---------------------------------------------------------------------------\u001b[0m",
      "\u001b[0;31mTypeError\u001b[0m                                 Traceback (most recent call last)",
      "\u001b[0;32m<ipython-input-6-37290c28ef34>\u001b[0m in \u001b[0;36m<module>\u001b[0;34m()\u001b[0m\n\u001b[0;32m----> 1\u001b[0;31m \u001b[0mpredictList\u001b[0m\u001b[0;34m*\u001b[0m\u001b[0mk\u001b[0m\u001b[0;34m\u001b[0m\u001b[0m\n\u001b[0m",
      "\u001b[0;31mTypeError\u001b[0m: can't multiply sequence by non-int of type 'float'"
     ]
    }
   ],
   "source": [
    "predictList*k"
   ]
  },
  {
   "cell_type": "code",
   "execution_count": null,
   "metadata": {},
   "outputs": [],
   "source": [
    "com_saleList"
   ]
  },
  {
   "cell_type": "code",
   "execution_count": null,
   "metadata": {
    "scrolled": true
   },
   "outputs": [],
   "source": [
    "e = com_saleList - k*predictList"
   ]
  },
  {
   "cell_type": "code",
   "execution_count": null,
   "metadata": {
    "scrolled": true
   },
   "outputs": [],
   "source": [
    "e"
   ]
  },
  {
   "cell_type": "code",
   "execution_count": null,
   "metadata": {},
   "outputs": [],
   "source": [
    "sum((e / com_saleList)*100)/136"
   ]
  },
  {
   "cell_type": "code",
   "execution_count": null,
   "metadata": {},
   "outputs": [],
   "source": []
  }
 ],
 "metadata": {
  "kernelspec": {
   "display_name": "Python 3",
   "language": "python",
   "name": "python3"
  },
  "language_info": {
   "codemirror_mode": {
    "name": "ipython",
    "version": 3
   },
   "file_extension": ".py",
   "mimetype": "text/x-python",
   "name": "python",
   "nbconvert_exporter": "python",
   "pygments_lexer": "ipython3",
   "version": "3.6.5"
  }
 },
 "nbformat": 4,
 "nbformat_minor": 2
}
