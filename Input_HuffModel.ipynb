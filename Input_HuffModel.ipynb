{
 "cells": [
  {
   "cell_type": "markdown",
   "metadata": {},
   "source": [
    "## Calculateクラス\n",
    "### LoadData(): データを読みこむメソッド\n",
    "- @param pop: 人口メッシュデータ（中心緯度経度、人口データを持つgeojson形式のデータ）\n",
    "- @param com: 商業集積地区データ（中心緯度経度、売り場面積、売上高を持つgeojson形式のデータ）\n",
    "            \n",
    "### Dist(): ヒュべニの公式を用いた二点の距離を求めるメソッド\n",
    "- @param p1: 緯度経度をリストで持つ地点\n",
    "- @param p2: 緯度経度をリストで持つ地点\n",
    "\n",
    "### oneAttract(): 顧客が店舗に行く確率を求めるメソッド\n",
    "- @apram distList: すべての店舗までの距離のリスト\n",
    "- @param areaList: すべての店舗の売場面積のリスト\n",
    "- @param area: 面積補正係数\n",
    "- @param dist: 距離補正係数\n",
    "- @return 店舗の魅力度のリスト\n",
    "\n",
    "### CleanList(): リストの-9999を0に変換するメソッド\n",
    "- @param ln: 変換するリスト\n",
    "- @return 変換後のリスト\n",
    "\n",
    "### PredictSale(): 売上高を求めるメソッド\n",
    "- @param pop_ptList 人口メッシュの緯度経度リスト\n",
    "- @param pop_popList 人口メッシュの人口リスト\n",
    "- @param com_ptList 商業施設の緯度経度リスト\n",
    "- @param com_areaList 商業施設の売り場面積リスト\n",
    "- @param area,dist 面積補正係数,距離補正係数\n",
    "- @return predictSale 売上の予測値"
   ]
  },
  {
   "cell_type": "markdown",
   "metadata": {},
   "source": [
    "## ライブラリ"
   ]
  },
  {
   "cell_type": "code",
   "execution_count": 1,
   "metadata": {},
   "outputs": [],
   "source": [
    "import numpy as np\n",
    "import json\n",
    "import tqdm\n",
    "from huffcalculate import Calculate\n",
    "import pandas as pd\n",
    "import matplotlib.pyplot as plt\n",
    "plt.style.use('ggplot')\n",
    "%matplotlib inline\n",
    "%config InlineBackend.figure_format = 'retina'\n"
   ]
  },
  {
   "cell_type": "markdown",
   "metadata": {},
   "source": [
    "## Calculateクラスのコンストラクタ"
   ]
  },
  {
   "cell_type": "code",
   "execution_count": 2,
   "metadata": {},
   "outputs": [],
   "source": [
    "calculate = Calculate('100_pop.geojson', 'A_com.geojson')\n",
    "(pop, com) = calculate.LoadData()"
   ]
  },
  {
   "cell_type": "markdown",
   "metadata": {},
   "source": [
    "## GeoJSON形式を読み込む"
   ]
  },
  {
   "cell_type": "code",
   "execution_count": 3,
   "metadata": {},
   "outputs": [],
   "source": [
    "#100mメッシュの点を取得\n",
    "pop_ptList = [i['geometry']['coordinates'] for i in pop['features']]\n",
    "#商業施設座標の取得\n",
    "com_ptList = [i['geometry']['coordinates'] for i in com['features']]\n",
    "\n",
    "# 商業集積地区の名称を取得\n",
    "com_name = [i['properties']['field_7'] for i in com['features']]\n",
    "\n",
    "#売場面積の取得\n",
    "com_areaList = [i['properties']['売場面積'] for i in com['features']]\n",
    "# com_areaList = [n.replace('X', '0') for n in com_areaList]\n",
    "# com_areaList = np.array([float(n.replace(',', '')) for n in com_areaList])\n",
    "#100mメッシュの人口を取得, -9999を0に変換\n",
    "pop_popList = [i['properties']['H27総人口'] for i in pop['features']]\n",
    "pop_popList = calculate.CleanList(pop_popList)\n",
    "\n",
    "#売り上げを取得\n",
    "com_saleList = [i['properties']['年間商品販売額'] for i in com['features']]\n",
    "#秘匿をゼロに\n",
    "# com_saleList = [n.replace('X', '0') for n in com_saleList]\n",
    "# com_saleList = np.array([float(n.replace(',', '')) for n in com_saleList])\n",
    "\n",
    "#出力用に取得\n",
    "#meshcodeの取得\n",
    "pop_meshcodeList = [i['properties']['MESHCODE'] for i in pop['features']]\n",
    "#keycodeの取得\n",
    "pop_keycodeList = [i['properties']['KEYCODE'] for i in pop['features']]\n",
    "\n",
    "#idを作成\n",
    "id = np.arange(len(com_areaList))"
   ]
  },
  {
   "cell_type": "markdown",
   "metadata": {},
   "source": [
    "# 基本プロット"
   ]
  },
  {
   "cell_type": "code",
   "execution_count": 4,
   "metadata": {
    "scrolled": true
   },
   "outputs": [
    {
     "data": {
      "text/plain": [
       "(array([206.,   9.,   5.,   3.,   0.,   0.,   0.,   0.,   0.,   1.]),\n",
       " array([5.800000e+01, 1.450420e+04, 2.895040e+04, 4.339660e+04,\n",
       "        5.784280e+04, 7.228900e+04, 8.673520e+04, 1.011814e+05,\n",
       "        1.156276e+05, 1.300738e+05, 1.445200e+05]),\n",
       " <a list of 10 Patch objects>)"
      ]
     },
     "execution_count": 4,
     "metadata": {},
     "output_type": "execute_result"
    },
    {
     "data": {
      "image/png": "[encoded data removed]",
      "text/plain": [
       "<Figure size 432x288 with 1 Axes>"
      ]
     },
     "metadata": {
      "image/png": {
       "height": 250,
       "width": 377
      },
      "needs_background": "light"
     },
     "output_type": "display_data"
    }
   ],
   "source": [
    "# 売場面積のプロット\n",
    "plt.hist(com_areaList)"
   ]
  },
  {
   "cell_type": "code",
   "execution_count": 5,
   "metadata": {},
   "outputs": [
    {
     "data": {
      "text/plain": [
       "(array([217.,   4.,   1.,   1.,   0.,   0.,   0.,   0.,   0.,   1.]),\n",
       " array([1.60000e+01, 2.70330e+04, 5.40500e+04, 8.10670e+04, 1.08084e+05,\n",
       "        1.35101e+05, 1.62118e+05, 1.89135e+05, 2.16152e+05, 2.43169e+05,\n",
       "        2.70186e+05]),\n",
       " <a list of 10 Patch objects>)"
      ]
     },
     "execution_count": 5,
     "metadata": {},
     "output_type": "execute_result"
    },
    {
     "data": {
      "image/png": "[encoded data removed]",
      "text/plain": [
       "<Figure size 432x288 with 1 Axes>"
      ]
     },
     "metadata": {
      "image/png": {
       "height": 250,
       "width": 377
      },
      "needs_background": "light"
     },
     "output_type": "display_data"
    }
   ],
   "source": [
    "# 元の売り上げのプロット\n",
    "plt.hist(com_saleList)"
   ]
  },
  {
   "cell_type": "markdown",
   "metadata": {},
   "source": [
    "## 比例定数の算出\n",
    "- 売上高/人口 = k(円/人)"
   ]
  },
  {
   "cell_type": "code",
   "execution_count": 6,
   "metadata": {},
   "outputs": [
    {
     "data": {
      "text/plain": [
       "0.5157552019268294"
      ]
     },
     "execution_count": 6,
     "metadata": {},
     "output_type": "execute_result"
    }
   ],
   "source": [
    "popSum = np.sum(pop_popList)\n",
    "saleSum = np.sum(com_saleList)\n",
    "k = saleSum / popSum\n",
    "k"
   ]
  },
  {
   "cell_type": "markdown",
   "metadata": {},
   "source": [
    "## 係数の定義\n",
    "- @param area: 面積のべき数\n",
    "- @param dist: 距離のべき数"
   ]
  },
  {
   "cell_type": "code",
   "execution_count": 273,
   "metadata": {},
   "outputs": [],
   "source": [
    "area = 1.30\n",
    "dist = 0.75"
   ]
  },
  {
   "cell_type": "markdown",
   "metadata": {},
   "source": [
    "## 売上高の予測"
   ]
  },
  {
   "cell_type": "code",
   "execution_count": 274,
   "metadata": {
    "scrolled": true
   },
   "outputs": [
    {
     "name": "stderr",
     "output_type": "stream",
     "text": [
      "100%|██████████| 32564/32564 [02:09<00:00, 252.01it/s]\n"
     ]
    }
   ],
   "source": [
    "predictList = calculate.PredictSale(pop_ptList, pop_popList, com_ptList, com_areaList, area, dist, 400)"
   ]
  },
  {
   "cell_type": "markdown",
   "metadata": {},
   "source": [
    "## 残差の計算"
   ]
  },
  {
   "cell_type": "code",
   "execution_count": 275,
   "metadata": {
    "scrolled": true
   },
   "outputs": [],
   "source": [
    "e = com_saleList - k*predictList"
   ]
  },
  {
   "cell_type": "markdown",
   "metadata": {},
   "source": [
    "## 平均二乗誤差"
   ]
  },
  {
   "cell_type": "code",
   "execution_count": 276,
   "metadata": {
    "scrolled": true
   },
   "outputs": [
    {
     "data": {
      "text/plain": [
       "4851.178977658543"
      ]
     },
     "execution_count": 276,
     "metadata": {},
     "output_type": "execute_result"
    }
   ],
   "source": [
    "RMSE = np.sqrt(np.sum(e**2)/len(com_saleList))\n",
    "RMSE"
   ]
  },
  {
   "cell_type": "code",
   "execution_count": 277,
   "metadata": {
    "scrolled": true
   },
   "outputs": [
    {
     "data": {
      "text/plain": [
       "array([4.93507526e+00, 8.36410169e+01, 1.60635065e+01, 9.13249055e-01,\n",
       "       3.32956690e+00, 5.45689424e+00, 1.02997431e+01, 3.67792189e+00,\n",
       "       3.27782363e+01, 1.25418278e+00, 8.82032541e+01, 1.83896095e+00,\n",
       "       1.54010571e-01, 5.05331144e+00, 7.57996715e+01, 5.01154853e+00,\n",
       "       4.01288690e-01, 4.84827002e-01, 1.25678212e+01, 8.40758922e+00,\n",
       "       2.32113827e+01, 2.65091747e+00, 5.80979518e+00, 1.21888919e+01,\n",
       "       1.64446745e+01, 1.13610749e+01, 2.48142147e+00, 1.99308914e-01,\n",
       "       1.76086351e+00, 1.89203548e+00, 1.99966157e+00, 8.08529830e+01,\n",
       "       1.42681735e+01, 5.88021694e+00, 8.85251638e+00, 7.57996715e+01,\n",
       "       3.85014205e+01, 3.04531009e+00, 5.17183260e+00, 8.50040122e-01,\n",
       "       7.44045855e-01, 4.80790781e+00, 3.03198686e+01, 1.11778317e+01,\n",
       "       5.80979518e+00, 5.57606779e+01, 2.62225891e+01, 1.26636185e-01,\n",
       "       8.43976858e-01, 1.14199128e+00, 1.41186815e+00, 7.29829845e-01,\n",
       "       2.02132457e+01, 8.89292401e-02, 1.67339737e+00, 2.20407950e+00,\n",
       "       3.38533076e+00, 1.15835219e+00, 1.85868926e+00, 4.46290614e+00,\n",
       "       1.69095436e-01, 6.80198959e-01, 1.20977032e+01, 2.02893307e+00,\n",
       "       5.82633220e-02, 1.00646867e+01, 1.97845798e+00, 1.52552798e+01,\n",
       "       9.73155261e-01, 2.07138300e+00, 2.17834709e+00, 1.79549606e-02,\n",
       "       1.64335331e+00, 1.95061479e+00, 6.97509558e-01, 1.03348508e+00,\n",
       "       2.13708325e+01, 7.54460183e+00, 4.94010079e+00, 2.85363469e+01,\n",
       "       2.17541658e+01, 5.42880369e-01, 1.45462638e+00, 6.93223632e-01,\n",
       "       4.95018263e+00, 8.13956204e+00, 3.78998358e+00, 3.76060386e+00,\n",
       "       8.66281960e+00, 8.78518468e-01, 3.48254054e+00, 3.00382599e+00,\n",
       "       1.85868926e+01, 1.86512071e+00, 1.31183856e+00, 1.80140326e+00,\n",
       "       2.20508135e+01, 2.23042712e+00, 1.45637315e+00, 3.08795606e-01,\n",
       "       2.32558916e+00, 3.83492409e+00, 4.17593094e-01, 2.40157375e+00,\n",
       "       1.70216806e+01, 2.06988052e-01, 1.48717933e+00, 7.11108030e-01,\n",
       "       1.43619485e-01, 5.34859865e+00, 3.49760561e+00, 3.42114173e+00,\n",
       "       4.53381213e+00, 1.47005424e+01, 2.16570490e+01, 2.74077908e+01,\n",
       "       1.43483555e+00, 4.56280942e-01, 3.95369110e+00, 4.34304295e+00,\n",
       "       9.88221425e-01, 3.03198686e+02, 4.44654352e+00, 8.95051472e+00,\n",
       "       3.03198686e+00, 2.58041435e+01, 1.39803429e+01, 1.01277223e+01,\n",
       "       2.36182034e+00, 5.76149522e+00, 1.81760172e+00, 4.26664818e+00,\n",
       "       1.93274063e+01, 4.37832038e+00, 2.05123847e+00, 4.18205084e+01,\n",
       "       7.00936133e-01, 3.40672681e+00, 2.59421336e+01, 9.91250302e-01,\n",
       "       6.39154016e+00, 2.08616968e-01, 1.88761828e+01, 3.02254142e+00,\n",
       "       2.10007748e+01, 2.40157375e+01, 2.97618342e+01, 4.04264915e+00,\n",
       "       1.15229904e+01, 8.82032541e+01, 3.30012175e+01, 8.39304321e+00,\n",
       "       5.17183260e+00, 3.78584281e-01, 2.55325209e+02, 9.15316788e+00,\n",
       "       2.69509943e+02, 9.90036526e+00, 5.16632479e+00, 6.70979112e+00,\n",
       "       7.46335227e+00, 1.34010469e+01, 1.82169695e+00, 1.22504520e+01,\n",
       "       5.31927519e+00, 9.84011963e-01, 4.21694974e-01, 7.20828971e+00,\n",
       "       3.23627684e+00, 7.00025827e+00, 7.95275242e+00, 1.12818116e+01,\n",
       "       7.56814193e+00, 3.98617829e+00, 1.21583433e+01, 1.73877383e+01,\n",
       "       1.00230971e+01, 3.69472885e+00, 1.56996083e+01, 4.89276750e-01,\n",
       "       3.97637621e+01, 3.02197656e-01, 1.64168493e+00, 2.05558431e+00,\n",
       "       2.17541658e+00, 1.51268443e+00, 5.78899639e+00, 1.86799345e+00,\n",
       "       7.53522674e-01, 4.82608334e-01, 2.30022711e+00, 9.19306230e-01,\n",
       "       9.27567682e+00, 5.77521307e+00, 4.43840712e+00, 3.38061253e+00,\n",
       "       9.82020036e-01, 5.30183495e+00, 7.79556320e-01, 4.61665301e-01,\n",
       "       7.11734005e-01, 1.81115512e-01, 5.68319936e-01, 1.06106277e+00,\n",
       "       2.77210227e+01, 7.09236693e-01, 9.54768545e-01, 1.54201493e+00,\n",
       "       3.40672681e+00, 7.32806492e+00, 9.40333200e-01, 5.92329546e+00,\n",
       "       3.57229674e+00, 2.60816074e+01, 1.43144850e+00, 3.76060386e+01,\n",
       "       7.81188241e+00, 1.14657976e+00, 6.93025568e+00, 1.95690963e+00,\n",
       "       5.07445500e-01, 2.40992498e+00, 3.93317576e-01, 2.31228741e+00])"
      ]
     },
     "execution_count": 277,
     "metadata": {},
     "output_type": "execute_result"
    }
   ],
   "source": [
    "RMSE/com_saleList"
   ]
  },
  {
   "cell_type": "code",
   "execution_count": 278,
   "metadata": {},
   "outputs": [
    {
     "data": {
      "text/plain": [
       "<matplotlib.collections.PathCollection at 0x12f565d68>"
      ]
     },
     "execution_count": 278,
     "metadata": {},
     "output_type": "execute_result"
    },
    {
     "data": {
      "image/png": "[encoded data removed]",
      "text/plain": [
       "<Figure size 432x288 with 1 Axes>"
      ]
     },
     "metadata": {
      "image/png": {
       "height": 250,
       "width": 377
      },
      "needs_background": "light"
     },
     "output_type": "display_data"
    }
   ],
   "source": [
    "plt.scatter(id, RMSE/com_saleList)"
   ]
  },
  {
   "cell_type": "markdown",
   "metadata": {},
   "source": [
    "## 残差プロット"
   ]
  },
  {
   "cell_type": "code",
   "execution_count": 279,
   "metadata": {},
   "outputs": [
    {
     "data": {
      "text/plain": [
       "<matplotlib.collections.PathCollection at 0x12190bb38>"
      ]
     },
     "execution_count": 279,
     "metadata": {},
     "output_type": "execute_result"
    },
    {
     "data": {
      "image/png": "[encoded data removed]",
      "text/plain": [
       "<Figure size 432x288 with 1 Axes>"
      ]
     },
     "metadata": {
      "image/png": {
       "height": 252,
       "width": 404
      },
      "needs_background": "light"
     },
     "output_type": "display_data"
    }
   ],
   "source": [
    "plt.ylim(-150000, 150000)\n",
    "plt.scatter(id, e, c='red', marker='.')"
   ]
  },
  {
   "cell_type": "markdown",
   "metadata": {},
   "source": [
    "## 理論値売上に対する誤差"
   ]
  },
  {
   "cell_type": "code",
   "execution_count": 280,
   "metadata": {},
   "outputs": [
    {
     "data": {
      "text/plain": [
       "2082.846117928307"
      ]
     },
     "execution_count": 280,
     "metadata": {},
     "output_type": "execute_result"
    }
   ],
   "source": [
    "sum(abs(e))/len(com_saleList)"
   ]
  },
  {
   "cell_type": "code",
   "execution_count": 281,
   "metadata": {},
   "outputs": [],
   "source": [
    "x = predictList*k"
   ]
  },
  {
   "cell_type": "code",
   "execution_count": 282,
   "metadata": {},
   "outputs": [],
   "source": [
    "y = com_saleList"
   ]
  },
  {
   "cell_type": "code",
   "execution_count": 283,
   "metadata": {
    "scrolled": true
   },
   "outputs": [
    {
     "data": {
      "text/plain": [
       "array([[1.        , 0.97113975],\n",
       "       [0.97113975, 1.        ]])"
      ]
     },
     "execution_count": 283,
     "metadata": {},
     "output_type": "execute_result"
    }
   ],
   "source": [
    "np.corrcoef(x,y)"
   ]
  },
  {
   "cell_type": "code",
   "execution_count": 284,
   "metadata": {
    "scrolled": true
   },
   "outputs": [
    {
     "data": {
      "text/plain": [
       "<matplotlib.collections.PathCollection at 0x121fefe48>"
      ]
     },
     "execution_count": 284,
     "metadata": {},
     "output_type": "execute_result"
    },
    {
     "data": {
      "image/png": "[encoded data removed]",
      "text/plain": [
       "<Figure size 432x288 with 1 Axes>"
      ]
     },
     "metadata": {
      "image/png": {
       "height": 252,
       "width": 414
      },
      "needs_background": "light"
     },
     "output_type": "display_data"
    }
   ],
   "source": [
    "#理論値と予測値の散布図\n",
    "plt.xlim(0, 300000)\n",
    "plt.ylim(0, 300000)\n",
    "plt.scatter(x, y, c='red', marker='.')"
   ]
  },
  {
   "cell_type": "markdown",
   "metadata": {},
   "source": [
    "## 基本プロット"
   ]
  },
  {
   "cell_type": "code",
   "execution_count": 285,
   "metadata": {
    "scrolled": false
   },
   "outputs": [
    {
     "data": {
      "text/plain": [
       "([array([213.,   6.,   2.,   2.,   0.,   0.,   0.,   0.,   0.,   0.,   0.,\n",
       "           0.,   0.,   1.,   0.]),\n",
       "  array([213.,   8.,   1.,   0.,   1.,   0.,   0.,   0.,   0.,   0.,   0.,\n",
       "           0.,   0.,   1.,   0.])],\n",
       " array([     0.,  20000.,  40000.,  60000.,  80000., 100000., 120000.,\n",
       "        140000., 160000., 180000., 200000., 220000., 240000., 260000.,\n",
       "        280000., 300000.]),\n",
       " <a list of 2 Lists of Patches objects>)"
      ]
     },
     "execution_count": 285,
     "metadata": {},
     "output_type": "execute_result"
    },
    {
     "data": {
      "image/png": "[encoded data removed]",
      "text/plain": [
       "<Figure size 432x288 with 1 Axes>"
      ]
     },
     "metadata": {
      "image/png": {
       "height": 250,
       "width": 381
      },
      "needs_background": "light"
     },
     "output_type": "display_data"
    }
   ],
   "source": [
    "#predicted data(予測値)\n",
    "\n",
    "plt.hist([x, y], stacked=False, range=(0, 300000), bins=15)"
   ]
  },
  {
   "cell_type": "markdown",
   "metadata": {},
   "source": [
    "## 誤差のcsv出力"
   ]
  },
  {
   "cell_type": "code",
   "execution_count": 286,
   "metadata": {
    "scrolled": true
   },
   "outputs": [],
   "source": [
    "data1 = pd.DataFrame(id)\n",
    "data2 = pd.DataFrame(com_name)\n",
    "data3 = pd.DataFrame(e)\n",
    "data = pd.concat([data1, data2, data3], axis=1)\n",
    "#utf-8 でダメなら　shift-jis で\n",
    "data.to_csv(\"data.csv\", encoding = \"utf-8\")"
   ]
  },
  {
   "cell_type": "code",
   "execution_count": null,
   "metadata": {},
   "outputs": [],
   "source": []
  }
 ],
 "metadata": {
  "kernelspec": {
   "display_name": "Python 3",
   "language": "python",
   "name": "python3"
  },
  "language_info": {
   "codemirror_mode": {
    "name": "ipython",
    "version": 3
   },
   "file_extension": ".py",
   "mimetype": "text/x-python",
   "name": "python",
   "nbconvert_exporter": "python",
   "pygments_lexer": "ipython3",
   "version": "3.7.0"
  }
 },
 "nbformat": 4,
 "nbformat_minor": 2
}
