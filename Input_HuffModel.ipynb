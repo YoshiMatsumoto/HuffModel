{
 "cells": [
  {
   "cell_type": "markdown",
   "metadata": {},
   "source": [
    "## Calculateクラス\n",
    "### LoadData(): データを読みこむメソッド\n",
    "- @param pop: 人口メッシュデータ（中心緯度経度、人口データを持つgeojson形式のデータ）\n",
    "- @param com: 商業集積地区データ（中心緯度経度、売り場面積、売上高を持つgeojson形式のデータ）\n",
    "            \n",
    "### Dist(): ヒュべニの公式を用いた二点の距離を求めるメソッド\n",
    "- @param p1: 緯度経度をリストで持つ地点\n",
    "- @param p2: 緯度経度をリストで持つ地点\n",
    "\n",
    "### oneAttract(): 顧客が店舗に行く確率を求めるメソッド\n",
    "- @apram distList: すべての店舗までの距離のリスト\n",
    "- @param areaList: すべての店舗の売場面積のリスト\n",
    "- @param area: 面積補正係数\n",
    "- @param dist: 距離補正係数\n",
    "- @return 店舗の魅力度のリスト\n",
    "\n",
    "### CleanList(): リストの-9999を0に変換するメソッド\n",
    "- @param ln: 変換するリスト\n",
    "- @return 変換後のリスト\n",
    "\n",
    "### PredictSale(): 売上高を求めるメソッド\n",
    "- @param pop_ptList 人口メッシュの緯度経度リスト\n",
    "- @param pop_popList 人口メッシュの人口リスト\n",
    "- @param com_ptList 商業施設の緯度経度リスト\n",
    "- @param com_areaList 商業施設の売り場面積リスト\n",
    "- @param area,dist 面積補正係数,距離補正係数\n",
    "- @return predictSale 売上の予測値"
   ]
  },
  {
   "cell_type": "markdown",
   "metadata": {},
   "source": [
    "## ライブラリ"
   ]
  },
  {
   "cell_type": "code",
   "execution_count": 1,
   "metadata": {},
   "outputs": [],
   "source": [
    "import numpy as np\n",
    "import json\n",
    "import tqdm\n",
    "import numba\n",
    "\n",
    "from huffcalculate import Calculate\n",
    "import pandas as pd\n",
    "import matplotlib.pyplot as plt\n",
    "plt.style.use('ggplot')\n",
    "%matplotlib inline\n",
    "%config InlineBackend.figure_format = 'retina'\n"
   ]
  },
  {
   "cell_type": "markdown",
   "metadata": {},
   "source": [
    "## Calculateクラスのコンストラクタ"
   ]
  },
  {
   "cell_type": "code",
   "execution_count": 2,
   "metadata": {},
   "outputs": [],
   "source": [
    "calculate = Calculate('100_pop.geojson', 'A_com.geojson')\n",
    "(pop, com) = calculate.LoadData()"
   ]
  },
  {
   "cell_type": "markdown",
   "metadata": {},
   "source": [
    "## GeoJSON形式を読み込む"
   ]
  },
  {
   "cell_type": "code",
   "execution_count": 3,
   "metadata": {},
   "outputs": [],
   "source": [
    "#100mメッシュの点を取得\n",
    "pop_ptList = np.array([i['geometry']['coordinates'] for i in pop['features']])\n",
    "#商業施設座標の取得\n",
    "com_ptList = np.array([i['geometry']['coordinates'] for i in com['features']])\n",
    "\n",
    "#売場面積の取得\n",
    "com_areaList = [i['properties']['売場面積'] for i in com['features']]\n",
    "com_areaList = [n.replace('X', '0') for n in com_areaList]\n",
    "com_areaList = np.array([float(n.replace(',', '')) for n in com_areaList])\n",
    "#小型店売場面積の取得\n",
    "com_sareaList = [i['properties']['小型店売場面積'] for i in com['features']]\n",
    "com_sareaList = [n.replace('X', '0') for n in com_sareaList]\n",
    "com_sareaList = np.array([float(n.replace(',', '')) for n in com_sareaList])\n",
    "#大型店売場面積の取得\n",
    "com_lareaList = [i['properties']['大型店売場面積'] for i in com['features']]\n",
    "com_lareaList = [n.replace('X', '0') for n in com_lareaList]\n",
    "com_lareaList = np.array([float(n.replace(',', '')) for n in com_lareaList])\n",
    "\n",
    "\n",
    "#100mメッシュの人口を取得, -9999を0に変換\n",
    "pop_popList = np.array([i['properties']['H27総人口'] for i in pop['features']])\n",
    "pop_popList = np.where(pop_popList == -9999, 0, pop_popList)\n",
    "\n",
    "#小型店売り上げを取得\n",
    "com_ssaleList = np.array([float(i['properties']['小型店年間商品販売額'].replace(',', '')) for i in com['features']])\n",
    "\n",
    "#大型店売り上げを取得\n",
    "com_lsaleList = np.array([float(i['properties']['大型店年間商品販売額'].replace(',', '')) for i in com['features']])\n",
    "\n",
    "#売り上げを取得\n",
    "com_saleList = [i['properties']['年間商品販売額'] for i in com['features']]\n",
    "#秘匿をゼロに\n",
    "com_saleList = [n.replace('X', '0') for n in com_saleList]\n",
    "com_saleList = np.array([float(n.replace(',', '')) for n in com_saleList])\n",
    "\n",
    "#出力用に取得\n",
    "#meshcodeの取得\n",
    "pop_meshcodeList = np.array([i['properties']['MESHCODE'] for i in pop['features']])\n",
    "#keycodeの取得\n",
    "pop_keycodeList = np.array([i['properties']['KEYCODE'] for i in pop['features']])\n",
    "\n",
    "#idを作成\n",
    "id = np.arange(len(com_areaList))"
   ]
  },
  {
   "cell_type": "markdown",
   "metadata": {},
   "source": [
    "## 比例定数の算出\n",
    "- 売上高/人口 = k(円/人)"
   ]
  },
  {
   "cell_type": "code",
   "execution_count": 4,
   "metadata": {},
   "outputs": [
    {
     "data": {
      "text/plain": [
       "0.5157552019268294"
      ]
     },
     "execution_count": 4,
     "metadata": {},
     "output_type": "execute_result"
    }
   ],
   "source": [
    "popSum = np.sum(pop_popList)\n",
    "saleSum = np.sum(com_saleList)\n",
    "k = saleSum / popSum\n",
    "k"
   ]
  },
  {
   "cell_type": "markdown",
   "metadata": {},
   "source": [
    "## 係数の定義\n",
    "- @param sarea: 小型面積のべき数\n",
    "- @param larea: 大型面積のべき数\n",
    "- @param dist: 距離のべき数\n",
    "- @param k: 係数"
   ]
  },
  {
   "cell_type": "code",
   "execution_count": 5,
   "metadata": {},
   "outputs": [],
   "source": [
    "sarea = 0.9\n",
    "larea = 0.9\n",
    "dist = 1.3"
   ]
  },
  {
   "cell_type": "markdown",
   "metadata": {},
   "source": [
    "## 売上高の予測"
   ]
  },
  {
   "cell_type": "code",
   "execution_count": 6,
   "metadata": {},
   "outputs": [
    {
     "data": {
      "text/plain": [
       "numpy.float64"
      ]
     },
     "execution_count": 6,
     "metadata": {},
     "output_type": "execute_result"
    }
   ],
   "source": [
    "type(com_sareaList[0])"
   ]
  },
  {
   "cell_type": "code",
   "execution_count": 7,
   "metadata": {
    "scrolled": true
   },
   "outputs": [
    {
     "name": "stderr",
     "output_type": "stream",
     "text": [
      "100%|██████████| 32564/32564 [01:43<00:00, 314.67it/s]\n"
     ]
    }
   ],
   "source": [
    "predictList = calculate.PredictSale(pop_ptList, pop_popList, com_ptList, com_sareaList, sarea, com_lareaList,larea, dist, 400)"
   ]
  },
  {
   "cell_type": "markdown",
   "metadata": {},
   "source": [
    "## 残差の計算"
   ]
  },
  {
   "cell_type": "code",
   "execution_count": 20,
   "metadata": {
    "scrolled": true
   },
   "outputs": [],
   "source": [
    "e = com_saleList - k*predictList\n",
    "e[np.isnan(e)] = 0"
   ]
  },
  {
   "cell_type": "markdown",
   "metadata": {},
   "source": [
    "## 平均二乗誤差"
   ]
  },
  {
   "cell_type": "code",
   "execution_count": 28,
   "metadata": {
    "scrolled": true
   },
   "outputs": [
    {
     "data": {
      "text/plain": [
       "143508.30744727128"
      ]
     },
     "execution_count": 28,
     "metadata": {},
     "output_type": "execute_result"
    }
   ],
   "source": [
    "RMSE = np.sqrt(sum(e**2))\n",
    "RMSE"
   ]
  },
  {
   "cell_type": "markdown",
   "metadata": {},
   "source": [
    "## 平均絶対残差"
   ]
  },
  {
   "cell_type": "code",
   "execution_count": 24,
   "metadata": {},
   "outputs": [
    {
     "data": {
      "text/plain": [
       "3545.367590322027"
      ]
     },
     "execution_count": 24,
     "metadata": {},
     "output_type": "execute_result"
    }
   ],
   "source": [
    "sum(abs(e))/len(com_saleList)"
   ]
  },
  {
   "cell_type": "markdown",
   "metadata": {},
   "source": [
    "## 残差プロット"
   ]
  },
  {
   "cell_type": "code",
   "execution_count": 22,
   "metadata": {
    "scrolled": true
   },
   "outputs": [
    {
     "data": {
      "text/plain": [
       "<matplotlib.collections.PathCollection at 0x1e03ab725f8>"
      ]
     },
     "execution_count": 22,
     "metadata": {},
     "output_type": "execute_result"
    },
    {
     "data": {
      "image/png": "[encoded data removed]",
      "text/plain": [
       "<Figure size 432x288 with 1 Axes>"
      ]
     },
     "metadata": {
      "image/png": {
       "height": 250,
       "width": 398
      }
     },
     "output_type": "display_data"
    }
   ],
   "source": [
    "plt.scatter(id, e, c='red', marker='.')"
   ]
  },
  {
   "cell_type": "markdown",
   "metadata": {},
   "source": [
    "## 相関係数の算出"
   ]
  },
  {
   "cell_type": "code",
   "execution_count": 27,
   "metadata": {},
   "outputs": [
    {
     "data": {
      "text/plain": [
       "array([[1.        , 0.89906045],\n",
       "       [0.89906045, 1.        ]])"
      ]
     },
     "execution_count": 27,
     "metadata": {},
     "output_type": "execute_result"
    }
   ],
   "source": [
    "x = predictList * k\n",
    "y = com_saleList\n",
    "np.corrcoef(x, y)"
   ]
  }
 ],
 "metadata": {
  "kernelspec": {
   "display_name": "Python 3",
   "language": "python",
   "name": "python3"
  },
  "language_info": {
   "codemirror_mode": {
    "name": "ipython",
    "version": 3
   },
   "file_extension": ".py",
   "mimetype": "text/x-python",
   "name": "python",
   "nbconvert_exporter": "python",
   "pygments_lexer": "ipython3",
   "version": "3.6.5"
  }
 },
 "nbformat": 4,
 "nbformat_minor": 2
}
