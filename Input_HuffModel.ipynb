{
 "cells": [
  {
   "cell_type": "markdown",
   "metadata": {},
   "source": [
    "## Calculateクラス\n",
    "### LoadData(): データを読みこむメソッド\n",
    "- @param pop: 人口メッシュデータ（中心緯度経度、人口データを持つgeojson形式のデータ）\n",
    "- @param com: 商業集積地区データ（中心緯度経度、売り場面積、売上高を持つgeojson形式のデータ）\n",
    "            \n",
    "### Dist(): ヒュべニの公式を用いた二点の距離を求めるメソッド\n",
    "- @param p1: 緯度経度をリストで持つ地点\n",
    "- @param p2: 緯度経度をリストで持つ地点\n",
    "\n",
    "### oneAttract(): 顧客が店舗に行く確率を求めるメソッド\n",
    "- @apram distList: すべての店舗までの距離のリスト\n",
    "- @param areaList: すべての店舗の売場面積のリスト\n",
    "- @param area: 面積補正係数\n",
    "- @param dist: 距離補正係数\n",
    "- @return 店舗の魅力度のリスト\n",
    "\n",
    "### CleanList(): リストの-9999を0に変換するメソッド\n",
    "- @param ln: 変換するリスト\n",
    "- @return 変換後のリスト\n",
    "\n",
    "### PredictSale(): 売上高を求めるメソッド\n",
    "- @param pop_ptList 人口メッシュの緯度経度リスト\n",
    "- @param pop_popList 人口メッシュの人口リスト\n",
    "- @param com_ptList 商業施設の緯度経度リスト\n",
    "- @param com_areaList 商業施設の売り場面積リスト\n",
    "- @param area,dist 面積補正係数,距離補正係数\n",
    "- @return predictSale 売上の予測値"
   ]
  },
  {
   "cell_type": "markdown",
   "metadata": {},
   "source": [
    "## ライブラリ"
   ]
  },
  {
   "cell_type": "code",
   "execution_count": 1,
   "metadata": {},
   "outputs": [],
   "source": [
    "import numpy as np\n",
    "import json\n",
    "import tqdm\n",
    "from huffcalculate import Calculate\n",
    "import pandas as pd\n",
    "import matplotlib.pyplot as plt\n",
    "plt.style.use('ggplot')\n",
    "%matplotlib inline\n",
    "%config InlineBackend.figure_format = 'retina'\n"
   ]
  },
  {
   "cell_type": "markdown",
   "metadata": {},
   "source": [
    "## Calculateクラスのコンストラクタ"
   ]
  },
  {
   "cell_type": "code",
   "execution_count": 2,
   "metadata": {},
   "outputs": [],
   "source": [
    "calculate = Calculate('100_pop.geojson', 'A_com.geojson')\n",
    "(pop, com) = calculate.LoadData()"
   ]
  },
  {
   "cell_type": "markdown",
   "metadata": {},
   "source": [
    "## GeoJSON形式を読み込む"
   ]
  },
  {
   "cell_type": "code",
   "execution_count": 63,
   "metadata": {},
   "outputs": [],
   "source": [
    "#100mメッシュの点を取得\n",
    "pop_ptList = [i['geometry']['coordinates'] for i in pop['features']]\n",
    "#商業施設座標の取得\n",
    "com_ptList = [i['geometry']['coordinates'] for i in com['features']]\n",
    "\n",
    "# 商業集積地区の名称を取得\n",
    "com_name = [i['properties']['field_7'] for i in com['features']]\n",
    "\n",
    "#売場面積の取得\n",
    "com_areaList = [i['properties']['売場面積'] for i in com['features']]\n",
    "com_areaList = [n.replace('X', '0') for n in com_areaList]\n",
    "com_areaList = np.array([float(n.replace(',', '')) for n in com_areaList])\n",
    "#100mメッシュの人口を取得, -9999を0に変換\n",
    "pop_popList = [i['properties']['H27総人口'] for i in pop['features']]\n",
    "pop_popList = calculate.CleanList(pop_popList)\n",
    "\n",
    "#売り上げを取得\n",
    "com_saleList = [i['properties']['年間商品販売額'] for i in com['features']]\n",
    "#秘匿をゼロに\n",
    "com_saleList = [n.replace('X', '0') for n in com_saleList]\n",
    "com_saleList = np.array([float(n.replace(',', '')) for n in com_saleList])\n",
    "\n",
    "#出力用に取得\n",
    "#meshcodeの取得\n",
    "pop_meshcodeList = [i['properties']['MESHCODE'] for i in pop['features']]\n",
    "#keycodeの取得\n",
    "pop_keycodeList = [i['properties']['KEYCODE'] for i in pop['features']]\n",
    "\n",
    "#idを作成\n",
    "id = np.arange(len(com_areaList))"
   ]
  },
  {
   "cell_type": "markdown",
   "metadata": {},
   "source": [
    "# 基本プロット"
   ]
  },
  {
   "cell_type": "code",
   "execution_count": 41,
   "metadata": {
    "scrolled": true
   },
   "outputs": [
    {
     "data": {
      "text/plain": [
       "(array([216.,   9.,   5.,   3.,   0.,   0.,   0.,   0.,   0.,   1.]),\n",
       " array([     0.,  14452.,  28904.,  43356.,  57808.,  72260.,  86712.,\n",
       "        101164., 115616., 130068., 144520.]),\n",
       " <a list of 10 Patch objects>)"
      ]
     },
     "execution_count": 41,
     "metadata": {},
     "output_type": "execute_result"
    },
    {
     "data": {
      "image/png": "[encoded data removed]",
      "text/plain": [
       "<Figure size 432x288 with 1 Axes>"
      ]
     },
     "metadata": {
      "image/png": {
       "height": 250,
       "width": 377
      },
      "needs_background": "light"
     },
     "output_type": "display_data"
    }
   ],
   "source": [
    "# 売場面積のプロット\n",
    "plt.hist(com_areaList)"
   ]
  },
  {
   "cell_type": "code",
   "execution_count": 43,
   "metadata": {},
   "outputs": [
    {
     "data": {
      "text/plain": [
       "(array([227.,   4.,   1.,   1.,   0.,   0.,   0.,   0.,   0.,   1.]),\n",
       " array([     0. ,  27018.6,  54037.2,  81055.8, 108074.4, 135093. ,\n",
       "        162111.6, 189130.2, 216148.8, 243167.4, 270186. ]),\n",
       " <a list of 10 Patch objects>)"
      ]
     },
     "execution_count": 43,
     "metadata": {},
     "output_type": "execute_result"
    },
    {
     "data": {
      "image/png": "[encoded data removed]",
      "text/plain": [
       "<Figure size 432x288 with 1 Axes>"
      ]
     },
     "metadata": {
      "image/png": {
       "height": 250,
       "width": 377
      },
      "needs_background": "light"
     },
     "output_type": "display_data"
    }
   ],
   "source": [
    "# 元の売り上げのプロット\n",
    "plt.hist(com_saleList)"
   ]
  },
  {
   "cell_type": "markdown",
   "metadata": {},
   "source": [
    "## 比例定数の算出\n",
    "- 売上高/人口 = k(円/人)"
   ]
  },
  {
   "cell_type": "code",
   "execution_count": 4,
   "metadata": {},
   "outputs": [
    {
     "data": {
      "text/plain": [
       "0.5157552019268294"
      ]
     },
     "execution_count": 4,
     "metadata": {},
     "output_type": "execute_result"
    }
   ],
   "source": [
    "popSum = np.sum(pop_popList)\n",
    "saleSum = np.sum(com_saleList)\n",
    "k = saleSum / popSum\n",
    "k"
   ]
  },
  {
   "cell_type": "markdown",
   "metadata": {},
   "source": [
    "## 係数の定義\n",
    "- @param area: 面積のべき数\n",
    "- @param dist: 距離のべき数"
   ]
  },
  {
   "cell_type": "code",
   "execution_count": 20,
   "metadata": {},
   "outputs": [],
   "source": [
    "area = 1.05\n",
    "dist = 0.62"
   ]
  },
  {
   "cell_type": "markdown",
   "metadata": {},
   "source": [
    "## 売上高の予測"
   ]
  },
  {
   "cell_type": "code",
   "execution_count": 21,
   "metadata": {
    "scrolled": true
   },
   "outputs": [
    {
     "name": "stderr",
     "output_type": "stream",
     "text": [
      "100%|██████████| 32564/32564 [02:17<00:00, 236.72it/s]\n"
     ]
    }
   ],
   "source": [
    "predictList = calculate.PredictSale(pop_ptList, pop_popList, com_ptList, com_areaList, area, dist, 400)"
   ]
  },
  {
   "cell_type": "markdown",
   "metadata": {},
   "source": [
    "## 残差の計算"
   ]
  },
  {
   "cell_type": "code",
   "execution_count": 23,
   "metadata": {
    "scrolled": true
   },
   "outputs": [],
   "source": [
    "e = com_saleList - k*predictList"
   ]
  },
  {
   "cell_type": "markdown",
   "metadata": {},
   "source": [
    "## 平均二乗誤差"
   ]
  },
  {
   "cell_type": "code",
   "execution_count": 24,
   "metadata": {
    "scrolled": true
   },
   "outputs": [
    {
     "data": {
      "text/plain": [
       "7773.061925637579"
      ]
     },
     "execution_count": 24,
     "metadata": {},
     "output_type": "execute_result"
    }
   ],
   "source": [
    "RMSE = np.sqrt(np.sum(e**2)/len(com_saleList))\n",
    "RMSE"
   ]
  },
  {
   "cell_type": "code",
   "execution_count": 47,
   "metadata": {
    "scrolled": true
   },
   "outputs": [
    {
     "name": "stderr",
     "output_type": "stream",
     "text": [
      "/Users/kanelab/anaconda3/lib/python3.7/site-packages/ipykernel_launcher.py:1: RuntimeWarning: divide by zero encountered in true_divide\n",
      "  \"\"\"Entry point for launching an IPython kernel.\n"
     ]
    },
    {
     "data": {
      "text/plain": [
       "array([7.90748924e+00, 1.34018309e+02, 2.57386156e+01, 1.46330232e+00,\n",
       "       5.33497730e+00, 8.74360172e+00, 1.65033162e+01, 5.89314778e+00,\n",
       "       5.25206887e+01, 2.00958168e+00, 1.41328399e+02, 2.94657389e+00,\n",
       "       2.46771705e-01, 8.09693951e+00, 1.21454093e+02, 8.03002265e+00,\n",
       "       6.42986345e-01, 7.76840089e-01, 2.01374661e+01, 1.34715111e+01,\n",
       "       3.71916839e+01, 4.24757482e+00, 9.30905620e+00, 1.95303063e+01,\n",
       "       2.63493625e+01, 1.82038921e+01, 3.97599075e+00, 3.19353407e-01,\n",
       "       2.82143809e+00, 3.03161542e+00, 3.20406510e+00, 1.29551032e+02,\n",
       "       2.28619468e+01,            inf, 9.42189324e+00, 1.41844196e+01,\n",
       "       1.21454093e+02, 6.16909677e+01, 4.87951157e+00,            inf,\n",
       "       8.28684640e+00, 1.36202242e+00, 1.19218741e+00, 7.70372837e+00,\n",
       "       4.85816370e+01, 1.79102809e+01, 9.30905620e+00, 8.93455394e+01,\n",
       "       4.20165509e+01, 2.02909625e-01, 1.35230722e+00, 1.82981684e+00,\n",
       "       2.26224154e+00, 1.16940905e+00, 3.23877580e+01, 1.42491649e-01,\n",
       "       2.68129076e+00, 3.53160469e+00, 5.42432793e+00, 1.85603198e+00,\n",
       "       2.97818465e+00, 7.15093093e+00, 2.70942240e-01, 1.08988530e+00,\n",
       "       1.93841943e+01, 3.25096693e+00, 9.33555352e-02, 1.61266845e+01,\n",
       "       3.17009051e+00, 2.44435910e+01, 1.55929026e+00, 3.31898460e+00,\n",
       "       3.49037356e+00, 2.87692994e-02, 2.63315106e+00, 3.12547725e+00,\n",
       "       1.11762213e+00, 1.65595695e+00, 3.42425635e+01, 1.20887433e+01,\n",
       "       7.91554168e+00, 4.57238937e+01, 3.48567799e+01, 8.69859213e-01,\n",
       "       2.33075320e+00, 1.11075478e+00, 7.93169584e+00, 1.30420502e+01,\n",
       "       6.07270463e+00, 6.02562940e+00, 1.38804677e+01,            inf,\n",
       "       1.40765337e+00, 5.58008753e+00, 4.81304144e+00,            inf,\n",
       "       2.97818465e+01, 2.98848978e+00, 2.10196374e+00, 2.88639507e+00,\n",
       "       3.53320997e+01, 3.57382158e+00, 2.33355206e+00, 4.94784336e-01,\n",
       "       3.72630006e+00, 6.14471298e+00, 6.69110952e-01, 3.84805046e+00,\n",
       "       2.72739015e+01, 3.31657718e-01, 2.38291291e+00,            inf,\n",
       "       1.13941101e+00, 2.30122030e-01, 8.57007930e+00, 5.60422633e+00,\n",
       "                  inf, 5.48170799e+00, 7.26454386e+00, 2.35547331e+01,\n",
       "       3.47011693e+01, 4.39156041e+01, 2.29904227e+00, 7.31100633e-01,\n",
       "       6.33501379e+00, 6.95887370e+00, 1.58343083e+00, 4.85816370e+02,\n",
       "       7.12471304e+00, 1.43414427e+01, 4.85816370e+00, 4.13460741e+01,\n",
       "       2.24007548e+01, 1.62276867e+01, 3.78435342e+00, 9.23166499e+00,\n",
       "       2.91234992e+00, 6.83646607e+00, 3.09683742e+01, 7.01539885e+00,\n",
       "       3.28670695e+00, 6.70091545e+01, 1.12311255e+00, 5.45861090e+00,\n",
       "       4.15671761e+01, 1.58828401e+00, 1.02411883e+01, 3.34267736e-01,\n",
       "       3.02453771e+01, 4.84302924e+00, 3.36496187e+01, 3.84805046e+01,\n",
       "       4.76874965e+01, 6.47755160e+00, 1.84633300e+01, 1.41328399e+02,\n",
       "       5.28779723e+01, 1.34482040e+01, 8.28684640e+00, 6.06606987e-01,\n",
       "       4.09108522e+02, 1.46661546e+01, 4.31836774e+02, 1.58633917e+01,\n",
       "       8.27802122e+00, 1.07511230e+01, 1.19585568e+01, 2.14725468e+01,\n",
       "       2.91891173e+00,            inf,            inf, 1.96289443e+01,\n",
       "       8.52309422e+00, 1.57668599e+00, 6.75683408e-01, 1.15498691e+01,\n",
       "       5.18549828e+00, 1.12165396e+01, 1.27427245e+01, 1.80768882e+01,\n",
       "       1.21264617e+01, 6.38706814e+00, 1.94813582e+01, 2.78604370e+01,\n",
       "       1.60600453e+01, 5.92007763e+00, 2.51555402e+01, 7.83969937e-01,\n",
       "       6.37136223e+01, 4.84212417e-01, 2.63047781e+00, 3.29367031e+00,\n",
       "       3.48567799e+00, 2.42377983e+00, 9.27573022e+00,            inf,\n",
       "                  inf, 2.99309277e+00, 1.20737215e+00, 7.73285110e-01,\n",
       "       3.68566236e+00, 1.47300776e+00, 1.48624511e+01, 9.25364515e+00,\n",
       "       7.11167605e+00, 5.41676789e+00, 1.57349432e+00, 8.49514965e+00,\n",
       "       1.24908596e+00, 7.39728010e-01, 1.14041401e+00, 2.90202051e-01,\n",
       "       9.10621125e-01, 1.70014478e+00, 4.44174967e+01, 1.13641256e+00,\n",
       "       1.52982915e+00, 2.47077620e+00, 5.45861090e+00, 1.17417854e+01,\n",
       "       1.50669935e+00, 9.49091810e+00, 5.72390422e+00, 4.17906555e+01,\n",
       "       2.29361520e+00, 6.02562940e+01, 1.25170079e+01, 1.83716897e+00,\n",
       "       1.11043742e+01, 3.13556350e+00, 8.13081791e-01, 3.86143166e+00,\n",
       "       6.30214199e-01, 3.70498662e+00])"
      ]
     },
     "execution_count": 47,
     "metadata": {},
     "output_type": "execute_result"
    }
   ],
   "source": [
    "RMSE/y"
   ]
  },
  {
   "cell_type": "code",
   "execution_count": 48,
   "metadata": {},
   "outputs": [
    {
     "name": "stderr",
     "output_type": "stream",
     "text": [
      "/Users/kanelab/anaconda3/lib/python3.7/site-packages/ipykernel_launcher.py:1: RuntimeWarning: divide by zero encountered in true_divide\n",
      "  \"\"\"Entry point for launching an IPython kernel.\n"
     ]
    },
    {
     "data": {
      "text/plain": [
       "<matplotlib.collections.PathCollection at 0x1202b65f8>"
      ]
     },
     "execution_count": 48,
     "metadata": {},
     "output_type": "execute_result"
    },
    {
     "data": {
      "image/png": "[encoded data removed]",
      "text/plain": [
       "<Figure size 432x288 with 1 Axes>"
      ]
     },
     "metadata": {
      "image/png": {
       "height": 250,
       "width": 377
      },
      "needs_background": "light"
     },
     "output_type": "display_data"
    }
   ],
   "source": [
    "plt.scatter(id, RMSE/y)"
   ]
  },
  {
   "cell_type": "markdown",
   "metadata": {},
   "source": [
    "## 残差プロット"
   ]
  },
  {
   "cell_type": "code",
   "execution_count": 25,
   "metadata": {},
   "outputs": [
    {
     "data": {
      "text/plain": [
       "<matplotlib.collections.PathCollection at 0x12c832ef0>"
      ]
     },
     "execution_count": 25,
     "metadata": {},
     "output_type": "execute_result"
    },
    {
     "data": {
      "image/png": "[encoded data removed]",
      "text/plain": [
       "<Figure size 432x288 with 1 Axes>"
      ]
     },
     "metadata": {
      "image/png": {
       "height": 252,
       "width": 404
      },
      "needs_background": "light"
     },
     "output_type": "display_data"
    }
   ],
   "source": [
    "plt.ylim(-150000, 150000)\n",
    "plt.scatter(id, e, c='red', marker='.')"
   ]
  },
  {
   "cell_type": "markdown",
   "metadata": {},
   "source": [
    "## 理論値売上に対する誤差"
   ]
  },
  {
   "cell_type": "code",
   "execution_count": 26,
   "metadata": {},
   "outputs": [
    {
     "data": {
      "text/plain": [
       "2250.7235234466057"
      ]
     },
     "execution_count": 26,
     "metadata": {},
     "output_type": "execute_result"
    }
   ],
   "source": [
    "sum(abs(e))/len(com_saleList)"
   ]
  },
  {
   "cell_type": "code",
   "execution_count": 27,
   "metadata": {},
   "outputs": [],
   "source": [
    "x = predictList*k"
   ]
  },
  {
   "cell_type": "code",
   "execution_count": 28,
   "metadata": {},
   "outputs": [],
   "source": [
    "y = com_saleList"
   ]
  },
  {
   "cell_type": "code",
   "execution_count": 29,
   "metadata": {
    "scrolled": true
   },
   "outputs": [
    {
     "data": {
      "text/plain": [
       "array([[1.        , 0.94162417],\n",
       "       [0.94162417, 1.        ]])"
      ]
     },
     "execution_count": 29,
     "metadata": {},
     "output_type": "execute_result"
    }
   ],
   "source": [
    "np.corrcoef(x,y)"
   ]
  },
  {
   "cell_type": "code",
   "execution_count": 31,
   "metadata": {
    "scrolled": true
   },
   "outputs": [
    {
     "data": {
      "text/plain": [
       "<matplotlib.collections.PathCollection at 0x11b8151d0>"
      ]
     },
     "execution_count": 31,
     "metadata": {},
     "output_type": "execute_result"
    },
    {
     "data": {
      "image/png": "[encoded data removed]",
      "text/plain": [
       "<Figure size 432x288 with 1 Axes>"
      ]
     },
     "metadata": {
      "image/png": {
       "height": 252,
       "width": 414
      },
      "needs_background": "light"
     },
     "output_type": "display_data"
    }
   ],
   "source": [
    "#理論値と予測値の散布図\n",
    "plt.xlim(0, 300000)\n",
    "plt.ylim(0, 300000)\n",
    "plt.scatter(x, y, c='red', marker='.')"
   ]
  },
  {
   "cell_type": "markdown",
   "metadata": {},
   "source": [
    "## 基本プロット"
   ]
  },
  {
   "cell_type": "code",
   "execution_count": 40,
   "metadata": {
    "scrolled": false
   },
   "outputs": [
    {
     "data": {
      "text/plain": [
       "([array([223.,   6.,   3.,   1.,   0.,   0.,   0.,   0.,   1.,   0.,   0.,\n",
       "           0.,   0.,   0.,   0.]),\n",
       "  array([223.,   8.,   1.,   0.,   1.,   0.,   0.,   0.,   0.,   0.,   0.,\n",
       "           0.,   0.,   1.,   0.])],\n",
       " array([     0.,  20000.,  40000.,  60000.,  80000., 100000., 120000.,\n",
       "        140000., 160000., 180000., 200000., 220000., 240000., 260000.,\n",
       "        280000., 300000.]),\n",
       " <a list of 2 Lists of Patches objects>)"
      ]
     },
     "execution_count": 40,
     "metadata": {},
     "output_type": "execute_result"
    },
    {
     "data": {
      "image/png": "[encoded data removed]",
      "text/plain": [
       "<Figure size 432x288 with 1 Axes>"
      ]
     },
     "metadata": {
      "image/png": {
       "height": 250,
       "width": 381
      },
      "needs_background": "light"
     },
     "output_type": "display_data"
    }
   ],
   "source": [
    "#predicted data(予測値)\n",
    "\n",
    "plt.hist([x, y], stacked=False, range=(0, 300000), bins=15)"
   ]
  },
  {
   "cell_type": "markdown",
   "metadata": {},
   "source": [
    "## 誤差のcsv出力"
   ]
  },
  {
   "cell_type": "code",
   "execution_count": 89,
   "metadata": {
    "scrolled": true
   },
   "outputs": [],
   "source": [
    "data1 = pd.DataFrame(id)\n",
    "data2 = pd.DataFrame(com_name)\n",
    "data3 = pd.DataFrame(e)\n",
    "data = pd.concat([data1, data2, data3], axis=1)\n",
    "#utf-8 でダメなら　shift-jis で\n",
    "data.to_csv(\"data.csv\", encoding = \"utf-8\")"
   ]
  }
 ],
 "metadata": {
  "kernelspec": {
   "display_name": "Python 3",
   "language": "python",
   "name": "python3"
  },
  "language_info": {
   "codemirror_mode": {
    "name": "ipython",
    "version": 3
   },
   "file_extension": ".py",
   "mimetype": "text/x-python",
   "name": "python",
   "nbconvert_exporter": "python",
   "pygments_lexer": "ipython3",
   "version": "3.7.0"
  }
 },
 "nbformat": 4,
 "nbformat_minor": 2
}
