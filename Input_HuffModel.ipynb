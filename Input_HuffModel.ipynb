{
 "cells": [
  {
   "cell_type": "markdown",
   "metadata": {},
   "source": [
    "## 計算クラス\n",
    "### LoadData(): データを読みこむメソッド\n",
    "- @param pop: 人口メッシュデータ（中心緯度経度、人口データを持つgeojson形式のデータ）\n",
    "- @param com: 商業集積地区データ（中心緯度経度、売り場面積、売上高を持つgeojson形式のデータ）\n",
    "            \n",
    "### Dist(): ヒュべニの公式を用いた二点の距離を求めるメソッド\n",
    "- @param p1: 緯度経度をリストで持つ地点\n",
    "- @param p2: 緯度経度をリストで持つ地点\n",
    "\n",
    "### oneAttract(): 顧客が店舗に行く確率を求めるメソッド\n",
    "- @apram distList: すべての店舗までの距離のリスト\n",
    "- @param areaList: すべての店舗の売場面積のリスト\n",
    "- @param area: 面積補正係数\n",
    "- @param dist: 距離補正係数\n",
    "- @return 店舗の魅力度のリスト\n",
    "\n",
    "### CleanList(): リストの-9999を0に変換するメソッド\n",
    "- @param ln: 変換するリスト\n",
    "- @return 変換後のリスト\n",
    "\n",
    "### aMRS(): 平均残差平方を求めるメソッド\n",
    "- @param predictList 予測値\n",
    "- @param expectedList 理論値\n",
    "- @return 平均最小二乗\n",
    "\n",
    "### PredictSale(): 売上高を求めるメソッド\n",
    "- @param pop_ptList 人口メッシュの緯度経度リスト\n",
    "- @param pop_popList 人口メッシュの人口リスト\n",
    "- @param com_ptList 商業施設の緯度経度リスト\n",
    "- @param com_areaList 商業施設の売り場面積リスト\n",
    "- @param area,dist 面積補正係数,距離補正係数\n",
    "- @return predictSale 売上の予測値"
   ]
  },
  {
   "cell_type": "markdown",
   "metadata": {},
   "source": [
    "## ライブラリ"
   ]
  },
  {
   "cell_type": "code",
   "execution_count": 4,
   "metadata": {},
   "outputs": [],
   "source": [
    "import numpy as np\n",
    "import json\n",
    "import tqdm\n",
    "from huffcalculate import Calculate"
   ]
  },
  {
   "cell_type": "markdown",
   "metadata": {},
   "source": [
    "## Calculateクラスのコンストラクタ"
   ]
  },
  {
   "cell_type": "code",
   "execution_count": 5,
   "metadata": {},
   "outputs": [],
   "source": [
    "calculate = Calculate('100_pop.geojson', 'A_com.geojson', 0.489773)\n",
    "(pop, com) = calculate.LoadData()"
   ]
  },
  {
   "cell_type": "markdown",
   "metadata": {},
   "source": [
    "## GeoJSON形式を読み込む"
   ]
  },
  {
   "cell_type": "code",
   "execution_count": 6,
   "metadata": {},
   "outputs": [],
   "source": [
    "#100mメッシュの点を取得\n",
    "pop_ptList = [i['geometry']['coordinates'] for i in pop['features']]\n",
    "#商業施設座標の取得\n",
    "com_ptList = [i['geometry']['coordinates'] for i in com['features']]\n",
    "#売場面積の取得\n",
    "com_areaList = [i['properties']['売場面積'] for i in com['features']]\n",
    "#100mメッシュの人口を取得, -9999を0に変換\n",
    "pop_popList = [i['properties']['H27総人口'] for i in pop['features']]\n",
    "pop_popList = calculate.CleanList(pop_popList)\n",
    "\n",
    "#売り上げを取得\n",
    "com_saleList = [i['properties']['年間商品販売額(百万円)'] for i in com['features']]\n",
    "#出力用に取得\n",
    "#meshcodeの取得\n",
    "pop_meshcodeList = [i['properties']['MESHCODE'] for i in pop['features']]\n",
    "#keycodeの取得\n",
    "pop_keycodeList = [i['properties']['KEYCODE'] for i in pop['features']]"
   ]
  },
  {
   "cell_type": "markdown",
   "metadata": {},
   "source": [
    "## 係数の定義\n",
    "- @param area: 面積のべき数\n",
    "- @param dist: 距離のべき数"
   ]
  },
  {
   "cell_type": "code",
   "execution_count": 18,
   "metadata": {},
   "outputs": [],
   "source": [
    "area = 0.1\n",
    "dist = 1.3"
   ]
  },
  {
   "cell_type": "code",
   "execution_count": null,
   "metadata": {
    "scrolled": true
   },
   "outputs": [
    {
     "name": "stderr",
     "output_type": "stream",
     "text": [
      " 16%|█▋        | 5323/32564 [00:18<02:25, 186.82it/s]"
     ]
    }
   ],
   "source": [
    "predictList = calculate.PredictSale(pop_ptList, pop_popList, com_ptList, com_areaList, area, dist)"
   ]
  },
  {
   "cell_type": "code",
   "execution_count": 14,
   "metadata": {},
   "outputs": [],
   "source": [
    "mrs = calculate.MRS(predictList, com_saleList)"
   ]
  },
  {
   "cell_type": "code",
   "execution_count": 17,
   "metadata": {
    "scrolled": true
   },
   "outputs": [
    {
     "data": {
      "text/plain": [
       "array([ 23568.6370905 ,   7136.54321307,   4424.02110266,   5420.80853887,\n",
       "         8490.42159615,  66307.909799  ,   7567.35345613,   4672.39137396,\n",
       "        46013.20117505,  29931.62970992,   3611.22180195,   5572.61080492,\n",
       "         2890.22473125,   4226.49869019,  67420.77667474,   3828.76298449,\n",
       "         4907.5081329 ,   3810.22680611,   4619.94041849,   4682.00866118,\n",
       "        25780.79165714,  29695.29048593,   4404.98927601,   3185.44134808,\n",
       "        66147.60534972,  22151.97540886,  18177.18554302,   7433.11519913,\n",
       "        21013.0842071 ,  89978.74201212,   2639.93863731,   6542.98293511,\n",
       "        35299.08726802,   4654.23031525,   6754.1531982 ,  64647.97142866,\n",
       "         3570.59488148,   5747.96319529,   5384.32499072, 221885.74156958,\n",
       "         3722.62244551,   4508.15457411,   8474.70528472,   5423.92904175,\n",
       "         2840.77961561,  15064.30960895,   6962.69231964,  10248.77869897,\n",
       "         3839.17840937,   2912.0201498 ,   4502.55227445,   3504.31018232,\n",
       "        19680.51122647,  13625.06071024,   5723.65285161,   5180.28053942,\n",
       "         5370.74808711,   7187.16174192,   6023.40706119,   6257.98461576,\n",
       "         5029.46967646,   5125.23692811,  12267.82712858,  27796.85239179,\n",
       "        12921.74346653,  31767.07078321,  80849.60408546,   3476.83480666,\n",
       "         3412.76680668,   5258.64990113,   4634.68906262,  10423.59618306,\n",
       "        36729.84507298,   3753.78021309,  19172.34744289,   4398.63363259,\n",
       "         7121.56228785,   2827.24627574,   3466.39098363,   5965.96300728,\n",
       "         5037.42285816,   4145.90361602,   4425.22229252,   4816.81734375,\n",
       "        20281.5945291 ,  62006.99464933,   3969.81008229,   3181.89028181,\n",
       "         6850.25239154,   4472.17811671,  27488.20635517,  23625.58614443,\n",
       "        49227.36344699,  10808.78518918,   7062.1214557 ,   2728.02407984,\n",
       "         4174.29856887,   4940.80505644,   6512.66018796,   4122.20634847,\n",
       "        30692.26779544,  52640.7043586 ,  10810.34370866,   5158.40152081,\n",
       "        11002.41280411,   4243.63720459,   8037.34367301,  37839.79793281,\n",
       "        26442.48356843,   8495.37713935,   4273.67993487,   6166.34710892,\n",
       "         6499.74886285,   6242.00558406,  12918.96283917,   3363.4192894 ,\n",
       "        24359.22814427,  41071.34598156,  22345.67804605,  63420.9663751 ,\n",
       "        21276.87855342,  25961.30768503,  14600.63493028,  27112.91691439,\n",
       "         4311.76070715,  13941.83713963,   4767.74485058,   4073.82822243,\n",
       "         6752.95463067,   3630.44054303,  16909.13896295,  11414.45797448,\n",
       "        20955.08217487,  11950.24252853,  28373.26290153,   7747.93117118])"
      ]
     },
     "execution_count": 17,
     "metadata": {},
     "output_type": "execute_result"
    }
   ],
   "source": [
    "predictList"
   ]
  },
  {
   "cell_type": "code",
   "execution_count": 16,
   "metadata": {
    "scrolled": true
   },
   "outputs": [
    {
     "data": {
      "text/plain": [
       "[5312,\n",
       " 1457,\n",
       " 889,\n",
       " 3868,\n",
       " 2638,\n",
       " 31499,\n",
       " 960,\n",
       " 968,\n",
       " 12089,\n",
       " 10006,\n",
       " 577,\n",
       " 1830,\n",
       " 835,\n",
       " 1955,\n",
       " 24340,\n",
       " 2755,\n",
       " 2426,\n",
       " 825,\n",
       " 1593,\n",
       " 938,\n",
       " 5707,\n",
       " 6520,\n",
       " 1009,\n",
       " 835,\n",
       " 38308,\n",
       " 5748,\n",
       " 4248,\n",
       " 3436,\n",
       " 6647,\n",
       " 54551,\n",
       " 2899,\n",
       " 4188,\n",
       " 28689,\n",
       " 7132,\n",
       " 2391,\n",
       " 83263,\n",
       " 2452,\n",
       " 4985,\n",
       " 2227,\n",
       " 270186,\n",
       " 2952,\n",
       " 2487,\n",
       " 6955,\n",
       " 4694,\n",
       " 643,\n",
       " 8936,\n",
       " 3335,\n",
       " 6998,\n",
       " 596,\n",
       " 1280,\n",
       " 1290,\n",
       " 560,\n",
       " 5522,\n",
       " 1393,\n",
       " 1615,\n",
       " 2601,\n",
       " 3698,\n",
       " 2693,\n",
       " 2175,\n",
       " 3974,\n",
       " 15710,\n",
       " 2086,\n",
       " 11617,\n",
       " 23437,\n",
       " 3262,\n",
       " 6822,\n",
       " 33778,\n",
       " 907,\n",
       " 1387,\n",
       " 1418,\n",
       " 1070,\n",
       " 3381,\n",
       " 10632,\n",
       " 1227,\n",
       " 4909,\n",
       " 1091,\n",
       " 1600,\n",
       " 347,\n",
       " 479,\n",
       " 2054,\n",
       " 1137,\n",
       " 2365,\n",
       " 6921,\n",
       " 1424,\n",
       " 4894,\n",
       " 23254,\n",
       " 1605,\n",
       " 202,\n",
       " 1200,\n",
       " 938,\n",
       " 12814,\n",
       " 4930,\n",
       " 11504,\n",
       " 673,\n",
       " 1499,\n",
       " 693,\n",
       " 610,\n",
       " 641,\n",
       " 1217,\n",
       " 1313,\n",
       " 9915,\n",
       " 16053,\n",
       " 2955,\n",
       " 2360,\n",
       " 2230,\n",
       " 3207,\n",
       " 2597,\n",
       " 6438,\n",
       " 10052,\n",
       " 2109,\n",
       " 523,\n",
       " 840,\n",
       " 1093,\n",
       " 1435,\n",
       " 4940,\n",
       " 915,\n",
       " 6223,\n",
       " 10508,\n",
       " 6816,\n",
       " 26785,\n",
       " 8536,\n",
       " 4572,\n",
       " 6840,\n",
       " 5081,\n",
       " 1424,\n",
       " 5159,\n",
       " 819,\n",
       " 1358,\n",
       " 3389,\n",
       " 129,\n",
       " 4231,\n",
       " 2479,\n",
       " 9560,\n",
       " 2013,\n",
       " 12334,\n",
       " 2098]"
      ]
     },
     "execution_count": 16,
     "metadata": {},
     "output_type": "execute_result"
    }
   ],
   "source": [
    "com_saleList"
   ]
  },
  {
   "cell_type": "code",
   "execution_count": null,
   "metadata": {},
   "outputs": [],
   "source": []
  }
 ],
 "metadata": {
  "kernelspec": {
   "display_name": "Python 3",
   "language": "python",
   "name": "python3"
  },
  "language_info": {
   "codemirror_mode": {
    "name": "ipython",
    "version": 3
   },
   "file_extension": ".py",
   "mimetype": "text/x-python",
   "name": "python",
   "nbconvert_exporter": "python",
   "pygments_lexer": "ipython3",
   "version": "3.6.5"
  }
 },
 "nbformat": 4,
 "nbformat_minor": 2
}
