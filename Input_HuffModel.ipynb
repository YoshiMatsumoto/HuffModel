{
 "cells": [
  {
   "cell_type": "markdown",
   "metadata": {},
   "source": [
    "## Calculateクラス\n",
    "### LoadData(): データを読みこむメソッド\n",
    "- @param pop: 人口メッシュデータ（中心緯度経度、人口データを持つgeojson形式のデータ）\n",
    "- @param com: 商業集積地区データ（中心緯度経度、売り場面積、売上高を持つgeojson形式のデータ）\n",
    "            \n",
    "### Dist(): ヒュべニの公式を用いた二点の距離を求めるメソッド\n",
    "- @param p1: 緯度経度をリストで持つ地点\n",
    "- @param p2: 緯度経度をリストで持つ地点\n",
    "\n",
    "### oneAttract(): 顧客が店舗に行く確率を求めるメソッド\n",
    "- @apram distList: すべての店舗までの距離のリスト\n",
    "- @param areaList: すべての店舗の売場面積のリスト\n",
    "- @param area: 面積補正係数\n",
    "- @param dist: 距離補正係数\n",
    "- @return 店舗の魅力度のリスト\n",
    "\n",
    "### CleanList(): リストの-9999を0に変換するメソッド\n",
    "- @param ln: 変換するリスト\n",
    "- @return 変換後のリスト\n",
    "\n",
    "### PredictSale(): 売上高を求めるメソッド\n",
    "- @param pop_ptList 人口メッシュの緯度経度リスト\n",
    "- @param pop_popList 人口メッシュの人口リスト\n",
    "- @param com_ptList 商業施設の緯度経度リスト\n",
    "- @param com_areaList 商業施設の売り場面積リスト\n",
    "- @param area,dist 面積補正係数,距離補正係数\n",
    "- @return predictSale 売上の予測値"
   ]
  },
  {
   "cell_type": "markdown",
   "metadata": {},
   "source": [
    "## ライブラリ"
   ]
  },
  {
   "cell_type": "code",
   "execution_count": 1,
   "metadata": {},
   "outputs": [],
   "source": [
    "import numpy as np\n",
    "import json\n",
    "import tqdm\n",
    "from huffcalculate import Calculate\n",
    "import pandas as pd\n",
    "import matplotlib.pyplot as plt\n",
    "plt.style.use('ggplot')\n",
    "%matplotlib inline\n",
    "%config InlineBackend.figure_format = 'retina'\n"
   ]
  },
  {
   "cell_type": "markdown",
   "metadata": {},
   "source": [
    "## Calculateクラスのコンストラクタ"
   ]
  },
  {
   "cell_type": "code",
   "execution_count": 2,
   "metadata": {},
   "outputs": [],
   "source": [
    "calculate = Calculate('100_pop.geojson', 'A_com.geojson', 0.489773)\n",
    "(pop, com) = calculate.LoadData()"
   ]
  },
  {
   "cell_type": "markdown",
   "metadata": {},
   "source": [
    "## GeoJSON形式を読み込む"
   ]
  },
  {
   "cell_type": "code",
   "execution_count": 6,
   "metadata": {},
   "outputs": [],
   "source": [
    "#100mメッシュの点を取得\n",
    "pop_ptList = [i['geometry']['coordinates'] for i in pop['features']]\n",
    "#商業施設座標の取得\n",
    "com_ptList = [i['geometry']['coordinates'] for i in com['features']]\n",
    "\n",
    "#売場面積の取得\n",
    "com_areaList = [i['properties']['売場面積'] for i in com['features']]\n",
    "com_areaList = [n.replace('X', '0') for n in com_areaList]\n",
    "com_areaList = np.array([float(n.replace(',', '')) for n in com_areaList])\n",
    "#100mメッシュの人口を取得, -9999を0に変換\n",
    "pop_popList = [i['properties']['H27総人口'] for i in pop['features']]\n",
    "pop_popList = calculate.CleanList(pop_popList)\n",
    "\n",
    "#売り上げを取得\n",
    "com_saleList = [i['properties']['年間商品販売額'] for i in com['features']]\n",
    "#秘匿をゼロに\n",
    "com_saleList = [n.replace('X', '0') for n in com_saleList]\n",
    "com_saleList = np.array([float(n.replace(',', '')) for n in com_saleList])\n",
    "\n",
    "#出力用に取得\n",
    "#meshcodeの取得\n",
    "pop_meshcodeList = [i['properties']['MESHCODE'] for i in pop['features']]\n",
    "#keycodeの取得\n",
    "pop_keycodeList = [i['properties']['KEYCODE'] for i in pop['features']]\n",
    "\n",
    "#idを作成\n",
    "id = np.arange(len(com_areaList))"
   ]
  },
  {
   "cell_type": "markdown",
   "metadata": {},
   "source": [
    "## 比例定数の算出\n",
    "- 売上高/人口 = k(円/人)"
   ]
  },
  {
   "cell_type": "code",
   "execution_count": 7,
   "metadata": {},
   "outputs": [
    {
     "data": {
      "text/plain": [
       "0.485898751112213"
      ]
     },
     "execution_count": 7,
     "metadata": {},
     "output_type": "execute_result"
    }
   ],
   "source": [
    "popSum = np.sum(pop_popList)\n",
    "saleSum = np.sum(com_saleList)\n",
    "k = 2956541 / popSum*0.37\n",
    "k"
   ]
  },
  {
   "cell_type": "markdown",
   "metadata": {},
   "source": [
    "## 係数の定義\n",
    "- @param area: 面積のべき数\n",
    "- @param dist: 距離のべき数"
   ]
  },
  {
   "cell_type": "code",
   "execution_count": 8,
   "metadata": {},
   "outputs": [],
   "source": [
    "area = 0.9\n",
    "dist = 1.4"
   ]
  },
  {
   "cell_type": "markdown",
   "metadata": {},
   "source": [
    "## 売上高の予測"
   ]
  },
  {
   "cell_type": "code",
   "execution_count": 9,
   "metadata": {
    "scrolled": true
   },
   "outputs": [
    {
     "name": "stderr",
     "output_type": "stream",
     "text": [
      "100%|██████████| 32564/32564 [03:00<00:00, 180.53it/s]\n"
     ]
    }
   ],
   "source": [
    "predictList = calculate.PredictSale(pop_ptList, pop_popList, com_ptList, com_areaList, area, dist, 400)"
   ]
  },
  {
   "cell_type": "markdown",
   "metadata": {},
   "source": [
    "## 残差の計算"
   ]
  },
  {
   "cell_type": "code",
   "execution_count": 14,
   "metadata": {
    "scrolled": true
   },
   "outputs": [],
   "source": [
    "e = com_saleList - k*predictList"
   ]
  },
  {
   "cell_type": "markdown",
   "metadata": {},
   "source": [
    "## 平均二乗誤差"
   ]
  },
  {
   "cell_type": "code",
   "execution_count": 15,
   "metadata": {
    "scrolled": true
   },
   "outputs": [
    {
     "data": {
      "text/plain": [
       "11564.539733807645"
      ]
     },
     "execution_count": 15,
     "metadata": {},
     "output_type": "execute_result"
    }
   ],
   "source": [
    "RMSE = np.sqrt(np.sum(e**2)/len(com_saleList))\n",
    "RMSE"
   ]
  },
  {
   "cell_type": "markdown",
   "metadata": {},
   "source": [
    "## 残差プロット"
   ]
  },
  {
   "cell_type": "code",
   "execution_count": 16,
   "metadata": {},
   "outputs": [
    {
     "data": {
      "text/plain": [
       "<matplotlib.collections.PathCollection at 0x11a6779e8>"
      ]
     },
     "execution_count": 16,
     "metadata": {},
     "output_type": "execute_result"
    },
    {
     "data": {
      "image/png": "[encoded data removed]",
      "text/plain": [
       "<Figure size 432x288 with 1 Axes>"
      ]
     },
     "metadata": {
      "image/png": {
       "height": 250,
       "width": 396
      }
     },
     "output_type": "display_data"
    }
   ],
   "source": [
    "plt.scatter(id, e, c='red', marker='.')"
   ]
  },
  {
   "cell_type": "markdown",
   "metadata": {},
   "source": [
    "## 理論値売上に対する誤差"
   ]
  },
  {
   "cell_type": "code",
   "execution_count": 17,
   "metadata": {},
   "outputs": [
    {
     "data": {
      "text/plain": [
       "2571.1395516121374"
      ]
     },
     "execution_count": 17,
     "metadata": {},
     "output_type": "execute_result"
    }
   ],
   "source": [
    "sum(abs(e))/len(com_saleList)"
   ]
  },
  {
   "cell_type": "code",
   "execution_count": 18,
   "metadata": {},
   "outputs": [
    {
     "name": "stderr",
     "output_type": "stream",
     "text": [
      "/Users/Yoshimasa/anaconda3/lib/python3.6/site-packages/ipykernel_launcher.py:1: RuntimeWarning: invalid value encountered in true_divide\n",
      "  \"\"\"Entry point for launching an IPython kernel.\n"
     ]
    },
    {
     "data": {
      "text/plain": [
       "<matplotlib.collections.PathCollection at 0x10b34ee10>"
      ]
     },
     "execution_count": 18,
     "metadata": {},
     "output_type": "execute_result"
    },
    {
     "data": {
      "image/png": "[encoded data removed]",
      "text/plain": [
       "<Figure size 432x288 with 1 Axes>"
      ]
     },
     "metadata": {
      "image/png": {
       "height": 250,
       "width": 379
      }
     },
     "output_type": "display_data"
    }
   ],
   "source": [
    "plt.scatter(id, e/com_saleList, c='red', marker='.')"
   ]
  },
  {
   "cell_type": "code",
   "execution_count": 19,
   "metadata": {},
   "outputs": [],
   "source": [
    "x = predictList*k"
   ]
  },
  {
   "cell_type": "code",
   "execution_count": 20,
   "metadata": {},
   "outputs": [],
   "source": [
    "y = com_saleList"
   ]
  },
  {
   "cell_type": "code",
   "execution_count": 21,
   "metadata": {
    "scrolled": true
   },
   "outputs": [
    {
     "data": {
      "text/plain": [
       "array([[1.        , 0.89021081],\n",
       "       [0.89021081, 1.        ]])"
      ]
     },
     "execution_count": 21,
     "metadata": {},
     "output_type": "execute_result"
    }
   ],
   "source": [
    "np.corrcoef(x,y)"
   ]
  }
 ],
 "metadata": {
  "kernelspec": {
   "display_name": "Python 3",
   "language": "python",
   "name": "python3"
  },
  "language_info": {
   "codemirror_mode": {
    "name": "ipython",
    "version": 3
   },
   "file_extension": ".py",
   "mimetype": "text/x-python",
   "name": "python",
   "nbconvert_exporter": "python",
   "pygments_lexer": "ipython3",
   "version": "3.6.5"
  }
 },
 "nbformat": 4,
 "nbformat_minor": 2
}
