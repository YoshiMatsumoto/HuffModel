{
 "cells": [
  {
   "cell_type": "markdown",
   "metadata": {},
   "source": [
    "## Calculateクラス\n",
    "### LoadData(): データを読みこむメソッド\n",
    "- @param pop: 人口メッシュデータ（中心緯度経度、人口データを持つgeojson形式のデータ）\n",
    "- @param com: 商業集積地区データ（中心緯度経度、売り場面積、売上高を持つgeojson形式のデータ）\n",
    "            \n",
    "### Dist(): ヒュべニの公式を用いた二点の距離を求めるメソッド\n",
    "- @param p1: 緯度経度をリストで持つ地点\n",
    "- @param p2: 緯度経度をリストで持つ地点\n",
    "\n",
    "### oneAttract(): 顧客が店舗に行く確率を求めるメソッド\n",
    "- @apram distList: すべての店舗までの距離のリスト\n",
    "- @param areaList: すべての店舗の売場面積のリスト\n",
    "- @param area: 面積補正係数\n",
    "- @param dist: 距離補正係数\n",
    "- @return 店舗の魅力度のリスト\n",
    "\n",
    "### CleanList(): リストの-9999を0に変換するメソッド\n",
    "- @param ln: 変換するリスト\n",
    "- @return 変換後のリスト\n",
    "\n",
    "### PredictSale(): 売上高を求めるメソッド\n",
    "- @param pop_ptList 人口メッシュの緯度経度リスト\n",
    "- @param pop_popList 人口メッシュの人口リスト\n",
    "- @param com_ptList 商業施設の緯度経度リスト\n",
    "- @param com_areaList 商業施設の売り場面積リスト\n",
    "- @param area,dist 面積補正係数,距離補正係数\n",
    "- @return predictSale 売上の予測値"
   ]
  },
  {
   "cell_type": "markdown",
   "metadata": {},
   "source": [
    "## ライブラリ"
   ]
  },
  {
   "cell_type": "code",
   "execution_count": 1,
   "metadata": {},
   "outputs": [],
   "source": [
    "import numpy as np\n",
    "import json\n",
    "import tqdm\n",
    "from huffcalculate import Calculate\n",
    "import pandas as pd\n",
    "import matplotlib.pyplot as plt\n",
    "plt.style.use('ggplot')\n",
    "%matplotlib inline\n",
    "%config InlineBackend.figure_format = 'retina'\n"
   ]
  },
  {
   "cell_type": "markdown",
   "metadata": {},
   "source": [
    "## Calculateクラスのコンストラクタ"
   ]
  },
  {
   "cell_type": "code",
   "execution_count": 2,
   "metadata": {},
   "outputs": [],
   "source": [
    "calculate = Calculate('100_pop.geojson', 'A_com.geojson')\n",
    "(pop, com) = calculate.LoadData()"
   ]
  },
  {
   "cell_type": "markdown",
   "metadata": {},
   "source": [
    "## GeoJSON形式を読み込む"
   ]
  },
  {
   "cell_type": "code",
   "execution_count": 3,
   "metadata": {},
   "outputs": [],
   "source": [
    "#100mメッシュの点を取得\n",
    "pop_ptList = [i['geometry']['coordinates'] for i in pop['features']]\n",
    "#商業施設座標の取得\n",
    "com_ptList = [i['geometry']['coordinates'] for i in com['features']]\n",
    "\n",
    "# 商業集積地区の名称を取得\n",
    "com_name = [i['properties']['field_7'] for i in com['features']]\n",
    "\n",
    "#売場面積の取得\n",
    "com_areaList = [i['properties']['売場面積'] for i in com['features']]\n",
    "# com_areaList = [n.replace('X', '0') for n in com_areaList]\n",
    "# com_areaList = np.array([float(n.replace(',', '')) for n in com_areaList])\n",
    "#100mメッシュの人口を取得, -9999を0に変換\n",
    "pop_popList = [i['properties']['H27総人口'] for i in pop['features']]\n",
    "pop_popList = calculate.CleanList(pop_popList)\n",
    "\n",
    "#売り上げを取得\n",
    "com_saleList = [i['properties']['年間商品販売額'] for i in com['features']]\n",
    "#秘匿をゼロに\n",
    "# com_saleList = [n.replace('X', '0') for n in com_saleList]\n",
    "# com_saleList = np.array([float(n.replace(',', '')) for n in com_saleList])\n",
    "\n",
    "#出力用に取得\n",
    "#meshcodeの取得\n",
    "pop_meshcodeList = [i['properties']['MESHCODE'] for i in pop['features']]\n",
    "#keycodeの取得\n",
    "pop_keycodeList = [i['properties']['KEYCODE'] for i in pop['features']]\n",
    "\n",
    "#idを作成\n",
    "id = np.arange(len(com_areaList))"
   ]
  },
  {
   "cell_type": "markdown",
   "metadata": {},
   "source": [
    "# 基本プロット"
   ]
  },
  {
   "cell_type": "code",
   "execution_count": 4,
   "metadata": {
    "scrolled": true
   },
   "outputs": [
    {
     "data": {
      "text/plain": [
       "(array([206.,   9.,   5.,   3.,   0.,   0.,   0.,   0.,   0.,   1.]),\n",
       " array([5.800000e+01, 1.450420e+04, 2.895040e+04, 4.339660e+04,\n",
       "        5.784280e+04, 7.228900e+04, 8.673520e+04, 1.011814e+05,\n",
       "        1.156276e+05, 1.300738e+05, 1.445200e+05]),\n",
       " <a list of 10 Patch objects>)"
      ]
     },
     "execution_count": 4,
     "metadata": {},
     "output_type": "execute_result"
    },
    {
     "data": {
      "image/png": "[encoded data removed]",
      "text/plain": [
       "<Figure size 432x288 with 1 Axes>"
      ]
     },
     "metadata": {
      "image/png": {
       "height": 250,
       "width": 377
      }
     },
     "output_type": "display_data"
    }
   ],
   "source": [
    "# 売場面積のプロット\n",
    "plt.hist(com_areaList)"
   ]
  },
  {
   "cell_type": "code",
   "execution_count": 5,
   "metadata": {},
   "outputs": [
    {
     "data": {
      "text/plain": [
       "(array([217.,   4.,   1.,   1.,   0.,   0.,   0.,   0.,   0.,   1.]),\n",
       " array([1.60000e+01, 2.70330e+04, 5.40500e+04, 8.10670e+04, 1.08084e+05,\n",
       "        1.35101e+05, 1.62118e+05, 1.89135e+05, 2.16152e+05, 2.43169e+05,\n",
       "        2.70186e+05]),\n",
       " <a list of 10 Patch objects>)"
      ]
     },
     "execution_count": 5,
     "metadata": {},
     "output_type": "execute_result"
    },
    {
     "data": {
      "image/png": "[encoded data removed]",
      "text/plain": [
       "<Figure size 432x288 with 1 Axes>"
      ]
     },
     "metadata": {
      "image/png": {
       "height": 250,
       "width": 377
      }
     },
     "output_type": "display_data"
    }
   ],
   "source": [
    "# 元の売り上げのプロット\n",
    "plt.hist(com_saleList)"
   ]
  },
  {
   "cell_type": "markdown",
   "metadata": {},
   "source": [
    "## 比例定数の算出\n",
    "- 売上高/人口 = k(円/人)"
   ]
  },
  {
   "cell_type": "code",
   "execution_count": 6,
   "metadata": {},
   "outputs": [
    {
     "data": {
      "text/plain": [
       "0.5157552019268294"
      ]
     },
     "execution_count": 6,
     "metadata": {},
     "output_type": "execute_result"
    }
   ],
   "source": [
    "popSum = np.sum(pop_popList)\n",
    "saleSum = np.sum(com_saleList)\n",
    "k = saleSum / popSum\n",
    "k"
   ]
  },
  {
   "cell_type": "markdown",
   "metadata": {},
   "source": [
    "## 係数の定義\n",
    "- @param area: 面積のべき数\n",
    "- @param dist: 距離のべき数"
   ]
  },
  {
   "cell_type": "code",
   "execution_count": 7,
   "metadata": {},
   "outputs": [],
   "source": [
    "area = 1.05\n",
    "dist = 0.62"
   ]
  },
  {
   "cell_type": "markdown",
   "metadata": {},
   "source": [
    "## 売上高の予測"
   ]
  },
  {
   "cell_type": "code",
   "execution_count": 8,
   "metadata": {
    "scrolled": true
   },
   "outputs": [
    {
     "name": "stderr",
     "output_type": "stream",
     "text": [
      "100%|██████████| 32564/32564 [01:19<00:00, 408.13it/s]\n"
     ]
    }
   ],
   "source": [
    "predictList = calculate.PredictSale(pop_ptList, pop_popList, com_ptList, com_areaList, area, dist, 400)"
   ]
  },
  {
   "cell_type": "markdown",
   "metadata": {},
   "source": [
    "## 残差の計算"
   ]
  },
  {
   "cell_type": "code",
   "execution_count": 9,
   "metadata": {
    "scrolled": true
   },
   "outputs": [],
   "source": [
    "e = com_saleList - k*predictList"
   ]
  },
  {
   "cell_type": "markdown",
   "metadata": {},
   "source": [
    "## 平均二乗誤差"
   ]
  },
  {
   "cell_type": "code",
   "execution_count": 10,
   "metadata": {
    "scrolled": true
   },
   "outputs": [
    {
     "data": {
      "text/plain": [
       "7929.839005631826"
      ]
     },
     "execution_count": 10,
     "metadata": {},
     "output_type": "execute_result"
    }
   ],
   "source": [
    "RMSE = np.sqrt(np.sum(e**2)/len(com_saleList))\n",
    "RMSE"
   ]
  },
  {
   "cell_type": "code",
   "execution_count": 12,
   "metadata": {
    "scrolled": true
   },
   "outputs": [
    {
     "data": {
      "text/plain": [
       "array([8.06697763e+00, 1.36721362e+02, 2.62577451e+01, 1.49281608e+00,\n",
       "       5.44257996e+00, 8.91995389e+00, 1.68361762e+01, 6.01200834e+00,\n",
       "       5.35799933e+01, 2.05011350e+00, 1.44178891e+02, 3.00600417e+00,\n",
       "       2.51748913e-01, 8.26024896e+00, 1.23903734e+02, 8.19198244e+00,\n",
       "       6.55954918e-01, 7.92508396e-01, 2.05436244e+01, 1.37432218e+01,\n",
       "       3.79418134e+01, 4.33324536e+00, 9.49681318e+00, 1.99242186e+01,\n",
       "       2.68808102e+01, 1.85710515e+01, 4.05618363e+00, 3.25794536e-01,\n",
       "       2.87834447e+00, 3.09276092e+00, 3.26868879e+00, 1.32163983e+02,\n",
       "       2.33230559e+01, 9.61192607e+00, 1.44705091e+01, 1.23903734e+02,\n",
       "       6.29352302e+01, 4.97792781e+00, 8.45398615e+00, 1.38949343e+00,\n",
       "       1.21623298e+00, 7.85910704e+00, 4.95614938e+01, 1.82715184e+01,\n",
       "       9.49681318e+00, 9.11475748e+01, 4.28639946e+01, 2.07002167e-01,\n",
       "       1.37958229e+00, 1.86672293e+00, 2.30786933e+00, 1.19299519e+00,\n",
       "       3.30409959e+01, 1.45365603e-01, 2.73537047e+00, 3.60283462e+00,\n",
       "       5.53373273e+00, 1.89346681e+00, 3.03825249e+00, 7.29516008e+00,\n",
       "       2.76406951e-01, 1.11186750e+00, 1.97751596e+01, 3.31653660e+00,\n",
       "       9.52384493e-02, 1.64519481e+01, 3.23402896e+00, 2.49366006e+01,\n",
       "       1.59074002e+00, 3.38592613e+00, 3.56077189e+00, 2.93495555e-02,\n",
       "       2.68625983e+00, 3.18851588e+00, 1.14016377e+00, 1.68935641e+00,\n",
       "       3.49332115e+01, 1.23325645e+01, 8.07519247e+00, 4.66461118e+01,\n",
       "       3.55598162e+01, 8.87403649e-01, 2.37776282e+00, 1.13315790e+00,\n",
       "       8.09167245e+00, 1.33050990e+01, 6.19518672e+00, 6.14716202e+00,\n",
       "       1.41604268e+01, 1.43604473e+00, 5.69263389e+00, 4.91011703e+00,\n",
       "       3.03825249e+01, 3.04876548e+00, 2.14435884e+00, 2.94461159e+00,\n",
       "       3.60447228e+01, 3.64590299e+00, 2.38061813e+00, 5.04763781e-01,\n",
       "       3.80145686e+00, 6.26864744e+00, 6.82606439e-01, 3.92566287e+00,\n",
       "       2.78239965e+01, 3.38347016e-01, 2.43097456e+00, 1.16239211e+00,\n",
       "       2.34763426e-01, 8.74293165e+00, 5.71725956e+00, 5.59227010e+00,\n",
       "       7.41106449e+00, 2.40298152e+01, 3.54010670e+01, 4.48013503e+01,\n",
       "       2.34541231e+00, 7.45846408e-01, 6.46278648e+00, 7.09922919e+00,\n",
       "       1.61536749e+00, 4.95614938e+02, 7.26841339e+00, 1.46306993e+01,\n",
       "       4.95614938e+00, 4.21799947e+01, 2.28525620e+01, 1.65549875e+01,\n",
       "       3.86068111e+00, 9.41786105e+00, 2.97108992e+00, 6.97435269e+00,\n",
       "       3.15929841e+01, 7.15689441e+00, 3.35299747e+00, 6.83606811e+01,\n",
       "       1.14576492e+00, 5.56870717e+00, 4.24055562e+01, 1.62031855e+00,\n",
       "       1.04477457e+01, 3.41009676e-01, 3.08554047e+01, 4.94070966e+00,\n",
       "       3.43283074e+01, 3.92566287e+01, 4.86493191e+01, 6.60819917e+00,\n",
       "       1.88357221e+01, 1.44178891e+02, 5.39444830e+01, 1.37194446e+01,\n",
       "       8.45398615e+00, 6.18841814e-01, 4.17359948e+02, 1.49619604e+01,\n",
       "       4.40546611e+02, 1.61833449e+01, 8.44498297e+00, 1.09679654e+01,\n",
       "       1.21997523e+01, 2.19056326e+01, 2.97778408e+00, 2.00248460e+01,\n",
       "       8.69499891e+00, 1.60848661e+00, 6.89311457e-01, 1.17828217e+01,\n",
       "       5.29008606e+00, 1.14427691e+01, 1.29997361e+01, 1.84414861e+01,\n",
       "       1.23710437e+01, 6.51589072e+00, 1.98742832e+01, 2.84223620e+01,\n",
       "       1.63839649e+01, 6.03948134e+00, 2.56629094e+01, 7.99782048e-01,\n",
       "       6.49986804e+01, 4.93978634e-01, 2.68353266e+00, 3.36010127e+00,\n",
       "       3.55598162e+00, 2.47266573e+00, 9.46281504e+00, 3.05346130e+00,\n",
       "       1.23172398e+00, 7.88881716e-01, 3.75999953e+00, 1.50271726e+00,\n",
       "       1.51622161e+01, 9.44028453e+00, 7.25511345e+00, 5.52602021e+00,\n",
       "       1.60523057e+00, 8.66649072e+00, 1.27427913e+00, 7.54647793e-01,\n",
       "       1.16341535e+00, 2.96055218e-01, 9.28987700e-01, 1.73443548e+00,\n",
       "       4.53133657e+01, 1.15933319e+00, 1.56068471e+00, 2.52060998e+00,\n",
       "       5.56870717e+00, 1.19786088e+01, 1.53708839e+00, 9.68234311e+00,\n",
       "       5.83935126e+00, 4.26335430e+01, 2.33987578e+00, 6.14716202e+01,\n",
       "       1.27694670e+01, 1.87422335e+00, 1.13283414e+01, 3.19880557e+00,\n",
       "       8.29481068e-01, 3.93931396e+00, 6.42925167e-01, 3.77971354e+00])"
      ]
     },
     "execution_count": 12,
     "metadata": {},
     "output_type": "execute_result"
    }
   ],
   "source": [
    "RMSE/com_saleList"
   ]
  },
  {
   "cell_type": "code",
   "execution_count": 15,
   "metadata": {},
   "outputs": [
    {
     "data": {
      "text/plain": [
       "<matplotlib.collections.PathCollection at 0x173bb985978>"
      ]
     },
     "execution_count": 15,
     "metadata": {},
     "output_type": "execute_result"
    },
    {
     "data": {
      "image/png": "[encoded data removed]",
      "text/plain": [
       "<Figure size 432x288 with 1 Axes>"
      ]
     },
     "metadata": {
      "image/png": {
       "height": 250,
       "width": 377
      }
     },
     "output_type": "display_data"
    }
   ],
   "source": [
    "plt.scatter(id, RMSE/com_saleList)"
   ]
  },
  {
   "cell_type": "markdown",
   "metadata": {},
   "source": [
    "## 残差プロット"
   ]
  },
  {
   "cell_type": "code",
   "execution_count": 16,
   "metadata": {},
   "outputs": [
    {
     "data": {
      "text/plain": [
       "<matplotlib.collections.PathCollection at 0x173bbb72fd0>"
      ]
     },
     "execution_count": 16,
     "metadata": {},
     "output_type": "execute_result"
    },
    {
     "data": {
      "image/png": "[encoded data removed]",
      "text/plain": [
       "<Figure size 432x288 with 1 Axes>"
      ]
     },
     "metadata": {
      "image/png": {
       "height": 252,
       "width": 404
      }
     },
     "output_type": "display_data"
    }
   ],
   "source": [
    "plt.ylim(-150000, 150000)\n",
    "plt.scatter(id, e, c='red', marker='.')"
   ]
  },
  {
   "cell_type": "markdown",
   "metadata": {},
   "source": [
    "## 理論値売上に対する誤差"
   ]
  },
  {
   "cell_type": "code",
   "execution_count": 17,
   "metadata": {},
   "outputs": [
    {
     "data": {
      "text/plain": [
       "2353.1528347375415"
      ]
     },
     "execution_count": 17,
     "metadata": {},
     "output_type": "execute_result"
    }
   ],
   "source": [
    "sum(abs(e))/len(com_saleList)"
   ]
  },
  {
   "cell_type": "code",
   "execution_count": 18,
   "metadata": {},
   "outputs": [],
   "source": [
    "x = predictList*k"
   ]
  },
  {
   "cell_type": "code",
   "execution_count": 19,
   "metadata": {},
   "outputs": [],
   "source": [
    "y = com_saleList"
   ]
  },
  {
   "cell_type": "code",
   "execution_count": 20,
   "metadata": {
    "scrolled": true
   },
   "outputs": [
    {
     "data": {
      "text/plain": [
       "array([[1.        , 0.94154644],\n",
       "       [0.94154644, 1.        ]])"
      ]
     },
     "execution_count": 20,
     "metadata": {},
     "output_type": "execute_result"
    }
   ],
   "source": [
    "np.corrcoef(x,y)"
   ]
  },
  {
   "cell_type": "code",
   "execution_count": 21,
   "metadata": {
    "scrolled": true
   },
   "outputs": [
    {
     "data": {
      "text/plain": [
       "<matplotlib.collections.PathCollection at 0x173bbd51588>"
      ]
     },
     "execution_count": 21,
     "metadata": {},
     "output_type": "execute_result"
    },
    {
     "data": {
      "image/png": "[encoded data removed]",
      "text/plain": [
       "<Figure size 432x288 with 1 Axes>"
      ]
     },
     "metadata": {
      "image/png": {
       "height": 252,
       "width": 414
      }
     },
     "output_type": "display_data"
    }
   ],
   "source": [
    "#理論値と予測値の散布図\n",
    "plt.xlim(0, 300000)\n",
    "plt.ylim(0, 300000)\n",
    "plt.scatter(x, y, c='red', marker='.')"
   ]
  },
  {
   "cell_type": "markdown",
   "metadata": {},
   "source": [
    "## 基本プロット"
   ]
  },
  {
   "cell_type": "code",
   "execution_count": 22,
   "metadata": {
    "scrolled": false
   },
   "outputs": [
    {
     "data": {
      "text/plain": [
       "([array([213.,   6.,   3.,   1.,   0.,   0.,   0.,   0.,   1.,   0.,   0.,\n",
       "           0.,   0.,   0.,   0.]),\n",
       "  array([213.,   8.,   1.,   0.,   1.,   0.,   0.,   0.,   0.,   0.,   0.,\n",
       "           0.,   0.,   1.,   0.])],\n",
       " array([     0.,  20000.,  40000.,  60000.,  80000., 100000., 120000.,\n",
       "        140000., 160000., 180000., 200000., 220000., 240000., 260000.,\n",
       "        280000., 300000.]),\n",
       " <a list of 2 Lists of Patches objects>)"
      ]
     },
     "execution_count": 22,
     "metadata": {},
     "output_type": "execute_result"
    },
    {
     "data": {
      "image/png": "[encoded data removed]",
      "text/plain": [
       "<Figure size 432x288 with 1 Axes>"
      ]
     },
     "metadata": {
      "image/png": {
       "height": 250,
       "width": 381
      }
     },
     "output_type": "display_data"
    }
   ],
   "source": [
    "#predicted data(予測値)\n",
    "\n",
    "plt.hist([x, y], stacked=False, range=(0, 300000), bins=15)"
   ]
  },
  {
   "cell_type": "markdown",
   "metadata": {},
   "source": [
    "## 誤差のcsv出力"
   ]
  },
  {
   "cell_type": "code",
   "execution_count": 23,
   "metadata": {
    "scrolled": true
   },
   "outputs": [],
   "source": [
    "data1 = pd.DataFrame(id)\n",
    "data2 = pd.DataFrame(com_name)\n",
    "data3 = pd.DataFrame(e)\n",
    "data = pd.concat([data1, data2, data3], axis=1)\n",
    "#utf-8 でダメなら　shift-jis で\n",
    "data.to_csv(\"data.csv\", encoding = \"utf-8\")"
   ]
  }
 ],
 "metadata": {
  "kernelspec": {
   "display_name": "Python 3",
   "language": "python",
   "name": "python3"
  },
  "language_info": {
   "codemirror_mode": {
    "name": "ipython",
    "version": 3
   },
   "file_extension": ".py",
   "mimetype": "text/x-python",
   "name": "python",
   "nbconvert_exporter": "python",
   "pygments_lexer": "ipython3",
   "version": "3.6.5"
  }
 },
 "nbformat": 4,
 "nbformat_minor": 2
}
