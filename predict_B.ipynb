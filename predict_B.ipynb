{
 "cells": [
  {
   "cell_type": "markdown",
   "metadata": {},
   "source": [
    "## Calculateクラス\n",
    "### LoadData(): データを読みこむメソッド\n",
    "- @param pop: 人口メッシュデータ（中心緯度経度、人口データを持つgeojson形式のデータ）\n",
    "- @param com: 商業集積地区データ（中心緯度経度、売り場面積、売上高を持つgeojson形式のデータ）\n",
    "            \n",
    "### Dist(): ヒュべニの公式を用いた二点の距離を求めるメソッド\n",
    "- @param p1: 緯度経度をリストで持つ地点\n",
    "- @param p2: 緯度経度をリストで持つ地点\n",
    "\n",
    "### oneAttract(): 顧客が店舗に行く確率を求めるメソッド\n",
    "- @apram distList: すべての店舗までの距離のリスト\n",
    "- @param areaList: すべての店舗の売場面積のリスト\n",
    "- @param area: 面積補正係数\n",
    "- @param dist: 距離補正係数\n",
    "- @return 店舗の魅力度のリスト\n",
    "\n",
    "### CleanList(): リストの-9999を0に変換するメソッド\n",
    "- @param ln: 変換するリスト\n",
    "- @return 変換後のリスト\n",
    "\n",
    "### PredictSale(): 売上高を求めるメソッド\n",
    "- @param pop_ptList 人口メッシュの緯度経度リスト\n",
    "- @param pop_popList 人口メッシュの人口リスト\n",
    "- @param com_ptList 商業施設の緯度経度リスト\n",
    "- @param com_areaList 商業施設の売り場面積リスト\n",
    "- @param area,dist 面積補正係数,距離補正係数\n",
    "- @return predictSale 売上の予測値"
   ]
  },
  {
   "cell_type": "markdown",
   "metadata": {},
   "source": [
    "## ライブラリ"
   ]
  },
  {
   "cell_type": "code",
   "execution_count": 2,
   "metadata": {},
   "outputs": [],
   "source": [
    "import numpy as np\n",
    "import json\n",
    "import tqdm\n",
    "from huffcalculate import Calculate\n",
    "import pandas as pd\n",
    "import matplotlib.pyplot as plt\n",
    "plt.style.use('ggplot')\n",
    "%matplotlib inline\n",
    "%config InlineBackend.figure_format = 'retina'\n"
   ]
  },
  {
   "cell_type": "markdown",
   "metadata": {},
   "source": [
    "## Calculateクラスのコンストラクタ"
   ]
  },
  {
   "cell_type": "code",
   "execution_count": 3,
   "metadata": {},
   "outputs": [],
   "source": [
    "calculate = Calculate('100_pop.geojson', 'B_com.geojson')\n",
    "(pop, com) = calculate.LoadData()"
   ]
  },
  {
   "cell_type": "markdown",
   "metadata": {},
   "source": [
    "## GeoJSON形式を読み込む"
   ]
  },
  {
   "cell_type": "code",
   "execution_count": 7,
   "metadata": {},
   "outputs": [],
   "source": [
    "#100mメッシュの点を取得\n",
    "pop_ptList = [i['geometry']['coordinates'] for i in pop['features']]\n",
    "\n",
    "#A\n",
    "#商業施設座標の取得\n",
    "com_ptList = [i['geometry']['coordinates'] for i in com['features']]\n",
    "\n",
    "#A\n",
    "# 商業集積地区の名称を取得\n",
    "com_name = [i['properties']['名称'] for i in com['features']]\n",
    "\n",
    "#A\n",
    "#売場面積の取得\n",
    "com_areaList = [i['properties']['補正後売場面積'] for i in com['features']]\n",
    "\n",
    "#100mメッシュの人口を取得, -9999を0に変換\n",
    "pop_popList = [i['properties']['H27総人口'] for i in pop['features']]\n",
    "pop_popList = calculate.CleanList(pop_popList)\n",
    "\n",
    "#出力用に取得\n",
    "#meshcodeの取得\n",
    "pop_meshcodeList = [i['properties']['MESHCODE'] for i in pop['features']]\n",
    "#keycodeの取得\n",
    "pop_keycodeList = [i['properties']['KEYCODE'] for i in pop['features']]\n",
    "\n",
    "#idを作成\n",
    "id = [i['properties']['番号'] for i in com['features']]"
   ]
  },
  {
   "cell_type": "markdown",
   "metadata": {},
   "source": [
    "# 基本プロット"
   ]
  },
  {
   "cell_type": "code",
   "execution_count": 8,
   "metadata": {
    "scrolled": true
   },
   "outputs": [
    {
     "data": {
      "text/plain": [
       "(array([222.,  15.,   7.,   2.,   1.,   3.,   0.,   0.,   2.,   1.]),\n",
       " array([  623. ,  5919.9, 11216.8, 16513.7, 21810.6, 27107.5, 32404.4,\n",
       "        37701.3, 42998.2, 48295.1, 53592. ]),\n",
       " <a list of 10 Patch objects>)"
      ]
     },
     "execution_count": 8,
     "metadata": {},
     "output_type": "execute_result"
    },
    {
     "data": {
      "image/png": "[encoded data removed]",
      "text/plain": [
       "<Figure size 432x288 with 1 Axes>"
      ]
     },
     "metadata": {
      "image/png": {
       "height": 250,
       "width": 377
      }
     },
     "output_type": "display_data"
    }
   ],
   "source": [
    "# 売場面積のプロット\n",
    "plt.hist(com_areaList)"
   ]
  },
  {
   "cell_type": "markdown",
   "metadata": {},
   "source": [
    "## 比例定数の設定\n",
    "- 売上高/人口 = k(円/人)"
   ]
  },
  {
   "cell_type": "code",
   "execution_count": 10,
   "metadata": {},
   "outputs": [],
   "source": [
    "k =0.5157552019268294"
   ]
  },
  {
   "cell_type": "markdown",
   "metadata": {},
   "source": [
    "## 係数の定義\n",
    "- @param area: 面積のべき数\n",
    "- @param dist: 距離のべき数"
   ]
  },
  {
   "cell_type": "code",
   "execution_count": 11,
   "metadata": {},
   "outputs": [],
   "source": [
    "area = 1.30\n",
    "dist = 0.76"
   ]
  },
  {
   "cell_type": "markdown",
   "metadata": {},
   "source": [
    "## 売上高の予測"
   ]
  },
  {
   "cell_type": "code",
   "execution_count": 12,
   "metadata": {
    "scrolled": true
   },
   "outputs": [
    {
     "name": "stderr",
     "output_type": "stream",
     "text": [
      "100%|██████████| 32564/32564 [03:54<00:00, 138.59it/s]\n"
     ]
    }
   ],
   "source": [
    "predictList = calculate.PredictSale(pop_ptList, pop_popList, com_ptList, com_areaList, area, dist, 400)"
   ]
  },
  {
   "cell_type": "markdown",
   "metadata": {},
   "source": [
    "# x = predictList*k"
   ]
  },
  {
   "cell_type": "code",
   "execution_count": 13,
   "metadata": {},
   "outputs": [],
   "source": [
    "x = k*predictList"
   ]
  },
  {
   "cell_type": "code",
   "execution_count": 15,
   "metadata": {},
   "outputs": [
    {
     "data": {
      "text/plain": [
       "array([ 28255.50886459,   6531.28574951,   4484.9314862 ,   4738.28199059,\n",
       "         2476.7092205 ,   2017.59554772,   2114.11122292,   1389.76712141,\n",
       "         1159.9751573 ,    918.07108079,    820.74997265,    755.0927496 ,\n",
       "          641.71832799,    508.61769445,    486.03781135,    488.38141409,\n",
       "          474.39516529,    420.49604504,    408.85182395,  47533.71952968,\n",
       "        14506.45403242,   8394.97022569,   7925.4557142 ,   3448.66441402,\n",
       "         2058.88469628,   1903.08323826,   1264.54794572,   1273.67636323,\n",
       "          629.48244125,    493.67202549,   3551.14865756,   2349.12031157,\n",
       "         2189.67119073,   1410.97922935,   1335.99278204,   1063.41258607,\n",
       "         1001.88743343,    652.0992605 ,    622.46839387,    393.03653519,\n",
       "          405.93525725,  15277.0005523 ,   3549.99003489,   3224.06850185,\n",
       "         3341.86532657,   1211.65165796,    913.97694062,    770.35859416,\n",
       "          675.59651381,    647.94373019,    488.02319537,    413.98090497,\n",
       "          415.41996622,    295.73966134,    370.16727607,  92184.95770773,\n",
       "        11673.97524712,   4088.16645011,   3980.12464209,   2539.39212778,\n",
       "         2060.60535531,   1267.66510878,   1139.93626963,   1128.78129799,\n",
       "         1008.27155042,    822.54813657,    708.89334788,    620.52258023,\n",
       "          561.59523988,    478.082801  ,    385.2850188 , 118210.63980438,\n",
       "        98944.81937052,  16089.8677127 ,   6558.18317368,   5751.38133741,\n",
       "         3979.61320198,   2329.5636496 ,   2347.95630102,   1966.63546877,\n",
       "         1722.11921085,   1469.06196218,   1426.43876875,   1389.50070039,\n",
       "          974.65004726,    927.72004572,    860.39192818,    779.04385346,\n",
       "          681.80063643,    649.32114681,    597.77014717,    567.13029916,\n",
       "          476.26045667,    484.25321203,    458.99673767,    432.3193631 ,\n",
       "          386.53668938,    361.84391881,  14938.27655952,  10063.48249338,\n",
       "         3882.96132676,   2629.00804707,   2255.6561735 ,   1954.50436834,\n",
       "         1317.26947299,   1323.35417284,    917.41024891,    804.19117064,\n",
       "          725.22176133,    732.54021808,    448.43356593,   9328.1046256 ,\n",
       "         2948.29857412,   1678.20266584,   1268.99634844,    923.3988274 ,\n",
       "          706.48308591,    453.30927192,    398.64765887,    391.62960033,\n",
       "        52122.781532  ,   9943.34494306,   4429.85800495,   1635.91847037,\n",
       "          962.19714402,    452.29315867,   5966.08168409,   3949.01725652,\n",
       "         2676.39242856,   2573.02680112,   2822.10850513,   2090.11953614,\n",
       "         1810.68060866,   1447.66061724,   1475.3673816 ,   1528.344286  ,\n",
       "          979.59195795,   1243.63208681,   1083.23951279,    885.56917066,\n",
       "          484.50118513,    702.58315026,    472.73712088,    661.55233766,\n",
       "          614.19703097,    559.51514856,    507.93470564,    367.87551837,\n",
       "          365.6963112 ,    454.91987848,    354.88869399,  46428.35537285,\n",
       "        21873.68689183,  14372.18728322,   8044.17925877,   7133.78538405,\n",
       "         3842.28007006,   3112.45094019,   2726.44780585,   2930.87533828,\n",
       "         2289.20921712,   2401.27571315,   2067.96073381,   1760.60085219,\n",
       "         1310.29696517,   1173.19806572,   1193.17921611,    864.37540757,\n",
       "         1025.88314147,    905.89782669,    872.42940529,    687.9735466 ,\n",
       "          675.2575717 ,    603.76040638,    614.79135796,    529.61089712,\n",
       "          319.3669915 ,  22838.91571333,  11397.24068339,   4802.19992785,\n",
       "         3868.59287907,   3462.93557759,   3229.89788856,   2185.68490484,\n",
       "         1970.56667348,    700.54168547,    484.40978974,  18029.4140582 ,\n",
       "         8808.58743432,   3971.91581631,   3346.1762074 ,   1883.13843892,\n",
       "         2436.66580622,   1777.37119282,   1142.50252171,    614.49085081,\n",
       "          830.55804668,    788.24937165,    682.7476628 ,    563.62199129,\n",
       "          611.96190547,    401.38353378,    459.36552442,    285.83617014,\n",
       "          302.27238789,  46891.30274172,  16500.132069  ,   6730.08125803,\n",
       "         6816.38581356,   5541.21093956,   4442.33151553,   3598.2398812 ,\n",
       "         3256.40554457,   2999.28088208,   3144.75929269,   2761.3072945 ,\n",
       "         2512.27519935,   1819.41049703,   1365.53574628,   1231.82245498,\n",
       "         1144.10180322,   1199.56602723,   1003.91733233,    640.29336724,\n",
       "          728.7728421 ,    604.57161079,    468.50778139,    399.00761552,\n",
       "        16654.98130249,   6396.55993915,   5532.85278594,   2748.29600887,\n",
       "         1931.89466807,   1559.97737104,   1673.18164806,   1203.25242285,\n",
       "         1190.46385562,   1092.94185169,    928.69522532,    891.79420803,\n",
       "          762.16432162,    644.42947883,    366.17719003,   3445.73312215,\n",
       "         3076.40218318,   2364.26540034,   1055.47945486,    929.59649811,\n",
       "          767.10794596,    633.1015609 ,    599.52083527,    515.16709986,\n",
       "          456.83181042])"
      ]
     },
     "execution_count": 15,
     "metadata": {},
     "output_type": "execute_result"
    }
   ],
   "source": [
    "x"
   ]
  },
  {
   "cell_type": "code",
   "execution_count": 14,
   "metadata": {},
   "outputs": [
    {
     "data": {
      "text/plain": [
       "(array([235.,  10.,   1.,   2.,   2.,   0.,   0.,   1.,   1.,   1.]),\n",
       " array([   285.83617014,  12078.31653356,  23870.79689698,  35663.27726041,\n",
       "         47455.75762383,  59248.23798726,  71040.71835068,  82833.1987141 ,\n",
       "         94625.67907753, 106418.15944095, 118210.63980438]),\n",
       " <a list of 10 Patch objects>)"
      ]
     },
     "execution_count": 14,
     "metadata": {},
     "output_type": "execute_result"
    },
    {
     "data": {
      "image/png": "[encoded data removed]",
      "text/plain": [
       "<Figure size 432x288 with 1 Axes>"
      ]
     },
     "metadata": {
      "image/png": {
       "height": 250,
       "width": 384
      }
     },
     "output_type": "display_data"
    }
   ],
   "source": [
    "plt.hist(x)"
   ]
  },
  {
   "cell_type": "markdown",
   "metadata": {},
   "source": [
    "## 誤差のcsv出力"
   ]
  },
  {
   "cell_type": "code",
   "execution_count": 16,
   "metadata": {
    "scrolled": true
   },
   "outputs": [],
   "source": [
    "data1 = pd.DataFrame(id)\n",
    "data2 = pd.DataFrame(com_name)\n",
    "data3 = pd.DataFrame(x)\n",
    "data = pd.concat([data1, data2, data3], axis=1)\n",
    "#utf-8 でダメなら　shift-jis で\n",
    "data.to_csv(\"data.csv\", encoding = \"utf-8\")"
   ]
  }
 ],
 "metadata": {
  "kernelspec": {
   "display_name": "Python 3",
   "language": "python",
   "name": "python3"
  },
  "language_info": {
   "codemirror_mode": {
    "name": "ipython",
    "version": 3
   },
   "file_extension": ".py",
   "mimetype": "text/x-python",
   "name": "python",
   "nbconvert_exporter": "python",
   "pygments_lexer": "ipython3",
   "version": "3.6.5"
  }
 },
 "nbformat": 4,
 "nbformat_minor": 2
}
